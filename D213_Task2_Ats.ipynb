{
 "cells": [
  {
   "cell_type": "code",
   "execution_count": 1,
   "metadata": {},
   "outputs": [
    {
     "name": "stderr",
     "output_type": "stream",
     "text": [
      "[nltk_data] Downloading package stopwords to\n",
      "[nltk_data]     C:\\Users\\Alex\\AppData\\Roaming\\nltk_data...\n",
      "[nltk_data]   Package stopwords is already up-to-date!\n",
      "[nltk_data] Downloading package punkt to\n",
      "[nltk_data]     C:\\Users\\Alex\\AppData\\Roaming\\nltk_data...\n",
      "[nltk_data]   Package punkt is already up-to-date!\n",
      "[nltk_data] Downloading package wordnet to\n",
      "[nltk_data]     C:\\Users\\Alex\\AppData\\Roaming\\nltk_data...\n",
      "[nltk_data]   Package wordnet is already up-to-date!\n"
     ]
    },
    {
     "data": {
      "text/plain": [
       "(10261, 9)"
      ]
     },
     "execution_count": 1,
     "metadata": {},
     "output_type": "execute_result"
    }
   ],
   "source": [
    "import matplotlib.pyplot as plt\n",
    "import tensorflow as tf\n",
    "%load_ext tensorboard\n",
    "import datetime\n",
    "from tensorflow import keras\n",
    "from tensorflow.keras import layers\n",
    "from tensorflow.keras.layers import Dense\n",
    "from tensorflow.keras.models import Sequential\n",
    "from tensorflow.keras.preprocessing.text import Tokenizer\n",
    "from tensorflow.keras.preprocessing.sequence import pad_sequences\n",
    "from sklearn.model_selection import cross_validate\n",
    "from sklearn.model_selection import train_test_split\n",
    "from sklearn.model_selection import StratifiedKFold\n",
    "from sklearn.model_selection import GridSearchCV\n",
    "from sklearn.model_selection import cross_val_predict\n",
    "from sklearn.model_selection import cross_val_score\n",
    "from sklearn.linear_model import LogisticRegression\n",
    "from sklearn.model_selection import learning_curve\n",
    "from sklearn.ensemble import ExtraTreesClassifier\n",
    "from sklearn.decomposition import TruncatedSVD\n",
    "from sklearn.feature_extraction.text import TfidfVectorizer, CountVectorizer, HashingVectorizer\n",
    "from sklearn.pipeline import Pipeline\n",
    "from sklearn.naive_bayes import MultinomialNB\n",
    "from sklearn.naive_bayes import GaussianNB \n",
    "from sklearn.svm import SVC\n",
    "from sklearn import metrics\n",
    "from sklearn.metrics import classification_report\n",
    "from sklearn.metrics import confusion_matrix\n",
    "from sklearn.metrics import precision_recall_fscore_support\n",
    "from sklearn.ensemble import RandomForestClassifier\n",
    "from sklearn.tree import DecisionTreeClassifier\n",
    "from sklearn.metrics import f1_score\n",
    "from sklearn.metrics import recall_score\n",
    "from tqdm import tqdm\n",
    "import itertools\n",
    "from sklearn.dummy import DummyClassifier\n",
    "from keras.preprocessing.sequence import pad_sequences\n",
    "from pprint import pprint\n",
    "from collections import defaultdict\n",
    "import pandas as pd\n",
    "import numpy as np\n",
    "import nltk\n",
    "nltk.download('stopwords')\n",
    "nltk.download('punkt')\n",
    "nltk.download('wordnet')\n",
    "from nltk.corpus import stopwords\n",
    "from nltk.tokenize import regexp_tokenize\n",
    "from nltk import word_tokenize, sent_tokenize\n",
    "from nltk.stem.lancaster import LancasterStemmer\n",
    "from nltk.stem import WordNetLemmatizer\n",
    "import re, string, unicodedata\n",
    "from sklearn.feature_extraction.text import TfidfVectorizer\n",
    "import contractions\n",
    "from contractions import contractions_dict\n",
    "from bs4 import BeautifulSoup\n",
    "\n",
    "\n",
    "\n",
    "\n",
    "df = pd.read_json('Musical_Instruments_5.json', orient='records', lines=True)\n",
    "#review_df.shape\n",
    "df.shape"
   ]
  },
  {
   "cell_type": "markdown",
   "metadata": {},
   "source": [
    "# Data Cleaning"
   ]
  },
  {
   "cell_type": "code",
   "execution_count": 2,
   "metadata": {},
   "outputs": [
    {
     "data": {
      "text/plain": [
       "(10261, 10)"
      ]
     },
     "execution_count": 2,
     "metadata": {},
     "output_type": "execute_result"
    }
   ],
   "source": [
    "list_pos = []\n",
    "list_neg = []\n",
    "\n",
    "for help in df['helpful']:\n",
    "    list_pos.append(help[0])\n",
    "    list_neg.append(help[1] - help[0])\n",
    "    \n",
    "df['pos_feedback'] = list_pos\n",
    "\n",
    "df['neg_feedback'] = list_neg\n",
    "\n",
    "df = df.drop('helpful', axis = 1)\n",
    "df.shape"
   ]
  },
  {
   "cell_type": "code",
   "execution_count": 3,
   "metadata": {},
   "outputs": [
    {
     "data": {
      "text/html": [
       "<div>\n",
       "<style scoped>\n",
       "    .dataframe tbody tr th:only-of-type {\n",
       "        vertical-align: middle;\n",
       "    }\n",
       "\n",
       "    .dataframe tbody tr th {\n",
       "        vertical-align: top;\n",
       "    }\n",
       "\n",
       "    .dataframe thead th {\n",
       "        text-align: right;\n",
       "    }\n",
       "</style>\n",
       "<table border=\"1\" class=\"dataframe\">\n",
       "  <thead>\n",
       "    <tr style=\"text-align: right;\">\n",
       "      <th></th>\n",
       "      <th>reviewerID</th>\n",
       "      <th>asin</th>\n",
       "      <th>reviewerName</th>\n",
       "      <th>reviewText</th>\n",
       "      <th>overall</th>\n",
       "      <th>summary</th>\n",
       "      <th>unixReviewTime</th>\n",
       "      <th>reviewTime</th>\n",
       "      <th>pos_feedback</th>\n",
       "      <th>neg_feedback</th>\n",
       "      <th>help_prop</th>\n",
       "      <th>rating_class</th>\n",
       "    </tr>\n",
       "  </thead>\n",
       "  <tbody>\n",
       "    <tr>\n",
       "      <th>0</th>\n",
       "      <td>A2IBPI20UZIR0U</td>\n",
       "      <td>1384719342</td>\n",
       "      <td>cassandra tu \"Yeah, well, that's just like, u...</td>\n",
       "      <td>Not much to write about here, but it does exac...</td>\n",
       "      <td>5</td>\n",
       "      <td>good</td>\n",
       "      <td>1393545600</td>\n",
       "      <td>02 28, 2014</td>\n",
       "      <td>0</td>\n",
       "      <td>0</td>\n",
       "      <td>0.000000</td>\n",
       "      <td>good</td>\n",
       "    </tr>\n",
       "    <tr>\n",
       "      <th>1</th>\n",
       "      <td>A14VAT5EAX3D9S</td>\n",
       "      <td>1384719342</td>\n",
       "      <td>Jake</td>\n",
       "      <td>The product does exactly as it should and is q...</td>\n",
       "      <td>5</td>\n",
       "      <td>Jake</td>\n",
       "      <td>1363392000</td>\n",
       "      <td>03 16, 2013</td>\n",
       "      <td>13</td>\n",
       "      <td>1</td>\n",
       "      <td>0.928571</td>\n",
       "      <td>good</td>\n",
       "    </tr>\n",
       "    <tr>\n",
       "      <th>2</th>\n",
       "      <td>A195EZSQDW3E21</td>\n",
       "      <td>1384719342</td>\n",
       "      <td>Rick Bennette \"Rick Bennette\"</td>\n",
       "      <td>The primary job of this device is to block the...</td>\n",
       "      <td>5</td>\n",
       "      <td>It Does The Job Well</td>\n",
       "      <td>1377648000</td>\n",
       "      <td>08 28, 2013</td>\n",
       "      <td>1</td>\n",
       "      <td>0</td>\n",
       "      <td>1.000000</td>\n",
       "      <td>good</td>\n",
       "    </tr>\n",
       "    <tr>\n",
       "      <th>3</th>\n",
       "      <td>A2C00NNG1ZQQG2</td>\n",
       "      <td>1384719342</td>\n",
       "      <td>RustyBill \"Sunday Rocker\"</td>\n",
       "      <td>Nice windscreen protects my MXL mic and preven...</td>\n",
       "      <td>5</td>\n",
       "      <td>GOOD WINDSCREEN FOR THE MONEY</td>\n",
       "      <td>1392336000</td>\n",
       "      <td>02 14, 2014</td>\n",
       "      <td>0</td>\n",
       "      <td>0</td>\n",
       "      <td>0.000000</td>\n",
       "      <td>good</td>\n",
       "    </tr>\n",
       "    <tr>\n",
       "      <th>4</th>\n",
       "      <td>A94QU4C90B1AX</td>\n",
       "      <td>1384719342</td>\n",
       "      <td>SEAN MASLANKA</td>\n",
       "      <td>This pop filter is great. It looks and perform...</td>\n",
       "      <td>5</td>\n",
       "      <td>No more pops when I record my vocals.</td>\n",
       "      <td>1392940800</td>\n",
       "      <td>02 21, 2014</td>\n",
       "      <td>0</td>\n",
       "      <td>0</td>\n",
       "      <td>0.000000</td>\n",
       "      <td>good</td>\n",
       "    </tr>\n",
       "  </tbody>\n",
       "</table>\n",
       "</div>"
      ],
      "text/plain": [
       "       reviewerID        asin  \\\n",
       "0  A2IBPI20UZIR0U  1384719342   \n",
       "1  A14VAT5EAX3D9S  1384719342   \n",
       "2  A195EZSQDW3E21  1384719342   \n",
       "3  A2C00NNG1ZQQG2  1384719342   \n",
       "4   A94QU4C90B1AX  1384719342   \n",
       "\n",
       "                                       reviewerName  \\\n",
       "0  cassandra tu \"Yeah, well, that's just like, u...   \n",
       "1                                              Jake   \n",
       "2                     Rick Bennette \"Rick Bennette\"   \n",
       "3                         RustyBill \"Sunday Rocker\"   \n",
       "4                                     SEAN MASLANKA   \n",
       "\n",
       "                                          reviewText  overall  \\\n",
       "0  Not much to write about here, but it does exac...        5   \n",
       "1  The product does exactly as it should and is q...        5   \n",
       "2  The primary job of this device is to block the...        5   \n",
       "3  Nice windscreen protects my MXL mic and preven...        5   \n",
       "4  This pop filter is great. It looks and perform...        5   \n",
       "\n",
       "                                 summary  unixReviewTime   reviewTime  \\\n",
       "0                                   good      1393545600  02 28, 2014   \n",
       "1                                   Jake      1363392000  03 16, 2013   \n",
       "2                   It Does The Job Well      1377648000  08 28, 2013   \n",
       "3          GOOD WINDSCREEN FOR THE MONEY      1392336000  02 14, 2014   \n",
       "4  No more pops when I record my vocals.      1392940800  02 21, 2014   \n",
       "\n",
       "   pos_feedback  neg_feedback  help_prop rating_class  \n",
       "0             0             0   0.000000         good  \n",
       "1            13             1   0.928571         good  \n",
       "2             1             0   1.000000         good  \n",
       "3             0             0   0.000000         good  \n",
       "4             0             0   0.000000         good  "
      ]
     },
     "execution_count": 3,
     "metadata": {},
     "output_type": "execute_result"
    }
   ],
   "source": [
    "df['help_prop'] = df.pos_feedback.div((df.pos_feedback+df.neg_feedback), axis=0)\n",
    "df['help_prop'].fillna(0, inplace=True)\n",
    "df['rating_class'] = df['overall'].apply(lambda x: 'bad' if x < 3 else'good')\n",
    "df.head()"
   ]
  },
  {
   "cell_type": "code",
   "execution_count": 4,
   "metadata": {},
   "outputs": [
    {
     "data": {
      "text/plain": [
       "<AxesSubplot:title={'center':'Count of Helpful Reviews'}, xlabel='Helpful Ratio', ylabel='Count of Reviews'>"
      ]
     },
     "execution_count": 4,
     "metadata": {},
     "output_type": "execute_result"
    }
   ],
   "source": [
    "round(df['help_prop'],1).value_counts().plot(kind='bar',xlabel = 'Helpful Ratio', ylabel = 'Count of Reviews', title = 'Count of Helpful Reviews')"
   ]
  },
  {
   "cell_type": "code",
   "execution_count": 5,
   "metadata": {},
   "outputs": [
    {
     "data": {
      "text/plain": [
       "(10261, 12)"
      ]
     },
     "execution_count": 5,
     "metadata": {},
     "output_type": "execute_result"
    }
   ],
   "source": [
    "#Remove Duplicate Reviews\n",
    "#No Duplicate Reviews found. \n",
    "df[df.duplicated(['reviewerName','unixReviewTime','asin'],keep= False)]\n",
    "#Remove NA Reveiws\n",
    "#No NA Reviews Found\n",
    "df = df.dropna(subset=['reviewText'])\n",
    "df.shape"
   ]
  },
  {
   "cell_type": "code",
   "execution_count": 6,
   "metadata": {},
   "outputs": [
    {
     "name": "stdout",
     "output_type": "stream",
     "text": [
      "Number of raw tokens: 1059352\n"
     ]
    }
   ],
   "source": [
    "from nltk.tokenize import word_tokenize\n",
    "\n",
    "raw_tokens=len([w for t in (df['reviewText'].apply(word_tokenize)) for w in t])\n",
    "print('Number of raw tokens: {}'.format(raw_tokens))"
   ]
  },
  {
   "cell_type": "code",
   "execution_count": 7,
   "metadata": {},
   "outputs": [],
   "source": [
    "#Below code taken from https://github.com/umaraju18/Capstone_project_2/blob/master/code/Amazon-Headphones_data_wrangling.ipynb\n",
    "\n",
    "def strip_html(text):\n",
    "    soup = BeautifulSoup(text, \"html.parser\")\n",
    "    return soup.get_text()\n",
    "\n",
    "def remove_between_square_brackets(text):\n",
    "    return re.sub('\\[[^]]*\\]', '', text)\n",
    "\n",
    "def denoise_text(text):\n",
    "    text = strip_html(text)\n",
    "    text = remove_between_square_brackets(text)\n",
    "    return text\n",
    "\n",
    "\n",
    "\n",
    "# Define function to expand contractions\n",
    "def expand_contractions(text):\n",
    "\n",
    "    expanded_text = contractions.fix(text)\n",
    "    return expanded_text\n",
    "\n",
    "\n",
    "# special_characters removal\n",
    "def remove_special_characters(text, remove_digits=True):\n",
    "    pattern = r'[^a-zA-z0-9\\s]' if not remove_digits else r'[^a-zA-z\\s]'\n",
    "    text = re.sub(pattern, '', text)\n",
    "    return text\n",
    "\n",
    "\n",
    "def remove_non_ascii(words):\n",
    "    \"\"\"Remove non-ASCII characters from list of tokenized words\"\"\"\n",
    "    new_words = []\n",
    "    for word in words:\n",
    "        new_word = unicodedata.normalize('NFKD', word).encode('ascii', 'ignore').decode('utf-8', 'ignore')\n",
    "        new_words.append(new_word)\n",
    "    return new_words\n",
    "\n",
    "def to_lowercase(words):\n",
    "    \"\"\"Convert all characters to lowercase from list of tokenized words\"\"\"\n",
    "    new_words = []\n",
    "    for word in words:\n",
    "        new_word = word.lower()\n",
    "        new_words.append(new_word)\n",
    "    return new_words\n",
    "\n",
    "\n",
    "def remove_punctuation_and_splchars(words):\n",
    "    \"\"\"Remove punctuation from list of tokenized words\"\"\"\n",
    "    new_words = []\n",
    "    for word in words:\n",
    "        new_word = ''.join(e for e in word if e.isalnum())\n",
    "        if new_word != '':\n",
    "            new_word = remove_special_characters(new_word, True)\n",
    "            new_words.append(new_word)\n",
    "    return new_words\n",
    "\n",
    "def replace_numbers(words):\n",
    "    \"\"\"Replace all interger occurrences in list of tokenized words with textual representation\"\"\"\n",
    "    p = inflect.engine()\n",
    "    new_words = []\n",
    "    for word in words:\n",
    "        if word.isdigit():\n",
    "            new_word = p.number_to_words(word)\n",
    "            new_words.append(new_word)\n",
    "        else:\n",
    "            new_words.append(word)\n",
    "    return new_words\n",
    "\n",
    "stopword_list= stopwords.words('english')\n",
    "stopword_list.remove('no')\n",
    "stopword_list.remove('not')\n",
    "\n",
    "\n",
    "\n",
    "def remove_stopwords(words):\n",
    "    \"\"\"Remove stop words from list of tokenized words\"\"\"\n",
    "    new_words = []\n",
    "    for word in words:\n",
    "        if word not in stopword_list:\n",
    "            new_words.append(word)\n",
    "    return new_words\n",
    "\n",
    "def stem_words(words):\n",
    "    \"\"\"Stem words in list of tokenized words\"\"\"\n",
    "    stemmer = LancasterStemmer()\n",
    "    stems = []\n",
    "    for word in words:\n",
    "        stem = stemmer.stem(word)\n",
    "        stems.append(stem)\n",
    "    return stems\n",
    "\n",
    "def lemmatize_verbs(words):\n",
    "    \"\"\"Lemmatize verbs in list of tokenized words\"\"\"\n",
    "    lemmatizer = WordNetLemmatizer()\n",
    "    lemmas = []\n",
    "    for word in words:\n",
    "        lemma = lemmatizer.lemmatize(word, pos='v')\n",
    "        lemmas.append(lemma)\n",
    "    return lemmas\n",
    "\n",
    "def normalize(words):\n",
    "    words = remove_non_ascii(words)\n",
    "    words = to_lowercase(words)\n",
    "    words = remove_punctuation_and_splchars(words)\n",
    "    words = remove_stopwords(words)\n",
    "    return words\n",
    "\n",
    "def lemmatize(words):\n",
    "    lemmas = lemmatize_verbs(words)\n",
    "    return lemmas"
   ]
  },
  {
   "cell_type": "code",
   "execution_count": 8,
   "metadata": {},
   "outputs": [],
   "source": [
    "def normalize_and_lemmaize(input):\n",
    "    sample = denoise_text(input)\n",
    "    sample = expand_contractions(sample)\n",
    "    sample = remove_special_characters(sample)\n",
    "    words = nltk.word_tokenize(sample)\n",
    "    words = normalize(words)\n",
    "    lemmas = lemmatize(words)\n",
    "    return ' '.join(lemmas)"
   ]
  },
  {
   "cell_type": "code",
   "execution_count": 9,
   "metadata": {},
   "outputs": [
    {
     "data": {
      "text/html": [
       "<div>\n",
       "<style scoped>\n",
       "    .dataframe tbody tr th:only-of-type {\n",
       "        vertical-align: middle;\n",
       "    }\n",
       "\n",
       "    .dataframe tbody tr th {\n",
       "        vertical-align: top;\n",
       "    }\n",
       "\n",
       "    .dataframe thead th {\n",
       "        text-align: right;\n",
       "    }\n",
       "</style>\n",
       "<table border=\"1\" class=\"dataframe\">\n",
       "  <thead>\n",
       "    <tr style=\"text-align: right;\">\n",
       "      <th></th>\n",
       "      <th>reviewerID</th>\n",
       "      <th>asin</th>\n",
       "      <th>reviewerName</th>\n",
       "      <th>reviewText</th>\n",
       "      <th>overall</th>\n",
       "      <th>summary</th>\n",
       "      <th>unixReviewTime</th>\n",
       "      <th>reviewTime</th>\n",
       "      <th>pos_feedback</th>\n",
       "      <th>neg_feedback</th>\n",
       "      <th>help_prop</th>\n",
       "      <th>rating_class</th>\n",
       "      <th>clean_text</th>\n",
       "    </tr>\n",
       "  </thead>\n",
       "  <tbody>\n",
       "    <tr>\n",
       "      <th>0</th>\n",
       "      <td>A2IBPI20UZIR0U</td>\n",
       "      <td>1384719342</td>\n",
       "      <td>cassandra tu \"Yeah, well, that's just like, u...</td>\n",
       "      <td>Not much to write about here, but it does exac...</td>\n",
       "      <td>5</td>\n",
       "      <td>good</td>\n",
       "      <td>1393545600</td>\n",
       "      <td>02 28, 2014</td>\n",
       "      <td>0</td>\n",
       "      <td>0</td>\n",
       "      <td>0.000000</td>\n",
       "      <td>good</td>\n",
       "      <td>not much write exactly suppose filter pop soun...</td>\n",
       "    </tr>\n",
       "    <tr>\n",
       "      <th>1</th>\n",
       "      <td>A14VAT5EAX3D9S</td>\n",
       "      <td>1384719342</td>\n",
       "      <td>Jake</td>\n",
       "      <td>The product does exactly as it should and is q...</td>\n",
       "      <td>5</td>\n",
       "      <td>Jake</td>\n",
       "      <td>1363392000</td>\n",
       "      <td>03 16, 2013</td>\n",
       "      <td>13</td>\n",
       "      <td>1</td>\n",
       "      <td>0.928571</td>\n",
       "      <td>good</td>\n",
       "      <td>product exactly quite affordablei not realize ...</td>\n",
       "    </tr>\n",
       "    <tr>\n",
       "      <th>2</th>\n",
       "      <td>A195EZSQDW3E21</td>\n",
       "      <td>1384719342</td>\n",
       "      <td>Rick Bennette \"Rick Bennette\"</td>\n",
       "      <td>The primary job of this device is to block the...</td>\n",
       "      <td>5</td>\n",
       "      <td>It Does The Job Well</td>\n",
       "      <td>1377648000</td>\n",
       "      <td>08 28, 2013</td>\n",
       "      <td>1</td>\n",
       "      <td>0</td>\n",
       "      <td>1.000000</td>\n",
       "      <td>good</td>\n",
       "      <td>primary job device block breath would otherwis...</td>\n",
       "    </tr>\n",
       "    <tr>\n",
       "      <th>3</th>\n",
       "      <td>A2C00NNG1ZQQG2</td>\n",
       "      <td>1384719342</td>\n",
       "      <td>RustyBill \"Sunday Rocker\"</td>\n",
       "      <td>Nice windscreen protects my MXL mic and preven...</td>\n",
       "      <td>5</td>\n",
       "      <td>GOOD WINDSCREEN FOR THE MONEY</td>\n",
       "      <td>1392336000</td>\n",
       "      <td>02 14, 2014</td>\n",
       "      <td>0</td>\n",
       "      <td>0</td>\n",
       "      <td>0.000000</td>\n",
       "      <td>good</td>\n",
       "      <td>nice windscreen protect mxl mic prevent pop th...</td>\n",
       "    </tr>\n",
       "    <tr>\n",
       "      <th>4</th>\n",
       "      <td>A94QU4C90B1AX</td>\n",
       "      <td>1384719342</td>\n",
       "      <td>SEAN MASLANKA</td>\n",
       "      <td>This pop filter is great. It looks and perform...</td>\n",
       "      <td>5</td>\n",
       "      <td>No more pops when I record my vocals.</td>\n",
       "      <td>1392940800</td>\n",
       "      <td>02 21, 2014</td>\n",
       "      <td>0</td>\n",
       "      <td>0</td>\n",
       "      <td>0.000000</td>\n",
       "      <td>good</td>\n",
       "      <td>pop filter great look perform like studio filt...</td>\n",
       "    </tr>\n",
       "  </tbody>\n",
       "</table>\n",
       "</div>"
      ],
      "text/plain": [
       "       reviewerID        asin  \\\n",
       "0  A2IBPI20UZIR0U  1384719342   \n",
       "1  A14VAT5EAX3D9S  1384719342   \n",
       "2  A195EZSQDW3E21  1384719342   \n",
       "3  A2C00NNG1ZQQG2  1384719342   \n",
       "4   A94QU4C90B1AX  1384719342   \n",
       "\n",
       "                                       reviewerName  \\\n",
       "0  cassandra tu \"Yeah, well, that's just like, u...   \n",
       "1                                              Jake   \n",
       "2                     Rick Bennette \"Rick Bennette\"   \n",
       "3                         RustyBill \"Sunday Rocker\"   \n",
       "4                                     SEAN MASLANKA   \n",
       "\n",
       "                                          reviewText  overall  \\\n",
       "0  Not much to write about here, but it does exac...        5   \n",
       "1  The product does exactly as it should and is q...        5   \n",
       "2  The primary job of this device is to block the...        5   \n",
       "3  Nice windscreen protects my MXL mic and preven...        5   \n",
       "4  This pop filter is great. It looks and perform...        5   \n",
       "\n",
       "                                 summary  unixReviewTime   reviewTime  \\\n",
       "0                                   good      1393545600  02 28, 2014   \n",
       "1                                   Jake      1363392000  03 16, 2013   \n",
       "2                   It Does The Job Well      1377648000  08 28, 2013   \n",
       "3          GOOD WINDSCREEN FOR THE MONEY      1392336000  02 14, 2014   \n",
       "4  No more pops when I record my vocals.      1392940800  02 21, 2014   \n",
       "\n",
       "   pos_feedback  neg_feedback  help_prop rating_class  \\\n",
       "0             0             0   0.000000         good   \n",
       "1            13             1   0.928571         good   \n",
       "2             1             0   1.000000         good   \n",
       "3             0             0   0.000000         good   \n",
       "4             0             0   0.000000         good   \n",
       "\n",
       "                                          clean_text  \n",
       "0  not much write exactly suppose filter pop soun...  \n",
       "1  product exactly quite affordablei not realize ...  \n",
       "2  primary job device block breath would otherwis...  \n",
       "3  nice windscreen protect mxl mic prevent pop th...  \n",
       "4  pop filter great look perform like studio filt...  "
      ]
     },
     "execution_count": 9,
     "metadata": {},
     "output_type": "execute_result"
    }
   ],
   "source": [
    "df['clean_text'] = df['reviewText'].map(lambda text: normalize_and_lemmaize(text))\n",
    "df.head()"
   ]
  },
  {
   "cell_type": "markdown",
   "metadata": {},
   "source": [
    "# Padding of Review Text and removal of outliers"
   ]
  },
  {
   "cell_type": "code",
   "execution_count": 10,
   "metadata": {},
   "outputs": [
    {
     "name": "stdout",
     "output_type": "stream",
     "text": [
      "Number of clean tokens: 467232\n",
      "\n",
      "Percentage of removed tokens: 0.56\n"
     ]
    }
   ],
   "source": [
    "clean_tokens=len([w for t in (df[\"clean_text\"].apply(word_tokenize)) for w in t])\n",
    "#clean_tokens=len((product_reviews_hp4[\"clean_text\"]))\n",
    "print('Number of clean tokens: {}\\n'.format(clean_tokens))\n",
    "print('Percentage of removed tokens: {0:.2f}'.format(1-(clean_tokens/raw_tokens)))"
   ]
  },
  {
   "cell_type": "code",
   "execution_count": 11,
   "metadata": {},
   "outputs": [
    {
     "name": "stdout",
     "output_type": "stream",
     "text": [
      "467232\n"
     ]
    }
   ],
   "source": [
    "from collections import Counter\n",
    "clean_text = df['clean_text']\n",
    "all_text2 = ' '.join(clean_text)\n",
    "# create a list of words\n",
    "words = all_text2.split()\n",
    "# Count all the words using Counter Method\n",
    "count_words = Counter(words)\n",
    "\n",
    "total_words = len(words)\n",
    "sorted_words = count_words.most_common(total_words)\n",
    "print (total_words)"
   ]
  },
  {
   "cell_type": "code",
   "execution_count": 12,
   "metadata": {
    "scrolled": true
   },
   "outputs": [
    {
     "name": "stdout",
     "output_type": "stream",
     "text": [
      "[[1, 26, 633, 275, 399, 459, 341, 4, 70, 26, 1031, 7, 1807, 19, 341, 459, 184, 158, 15, 16, 891, 12, 1127, 19], [61, 275, 144, 5742, 1, 734, 700, 538, 431, 46, 36, 9570, 138, 1212, 7, 538, 404, 82, 1848, 1061, 160, 6944, 2769, 2, 16, 9571, 3564, 1, 560, 58, 341, 459, 375, 2770, 1061, 70, 6945, 23, 341, 459, 12, 15, 172, 201, 115, 46, 39, 327, 9572, 8, 253, 9573, 61], [1408, 124, 332, 1024, 3350, 13, 730, 516, 341, 4, 259, 481, 1002, 21, 904, 2771, 127, 113, 1462, 700, 486, 459, 1024, 341, 295, 365, 481, 21, 2876, 120, 441, 229, 362, 830, 34, 570, 79, 65, 362, 2575, 128, 23, 24, 3565, 187, 58]]\n"
     ]
    }
   ],
   "source": [
    "vocab_to_int = {w:i+1 for i, (w,c) in enumerate(sorted_words)}\n",
    "reviews_int = []\n",
    "for text in clean_text:\n",
    "    r = [vocab_to_int[w] for w in text.split()]\n",
    "    reviews_int.append(r)\n",
    "print (reviews_int[0:3])"
   ]
  },
  {
   "cell_type": "code",
   "execution_count": 13,
   "metadata": {},
   "outputs": [],
   "source": [
    "rating_class = df['rating_class']\n",
    "encoded_labels = [1 if label =='good' else 0 for label in rating_class]\n",
    "encoded_labels = np.array(encoded_labels)"
   ]
  },
  {
   "cell_type": "code",
   "execution_count": 14,
   "metadata": {},
   "outputs": [
    {
     "name": "stdout",
     "output_type": "stream",
     "text": [
      "Length of distinct list: 24870\n",
      "Length of distinct reveiws_int list: 24870\n"
     ]
    }
   ],
   "source": [
    "from collections import Counter\n",
    "from array import array\n",
    "#rev = array().fromlist(clean_text)\n",
    "distinct_list= (Counter(vocab_to_int).keys())\n",
    "distinct_int= (Counter(words).keys())\n",
    "#print(\"List with distinct elements:\\n\",distinct_list)\n",
    "print(\"Length of distinct list:\",len(distinct_list))\n",
    "print(\"Length of distinct reveiws_int list:\",len(distinct_int))"
   ]
  },
  {
   "cell_type": "code",
   "execution_count": 15,
   "metadata": {},
   "outputs": [
    {
     "name": "stdout",
     "output_type": "stream",
     "text": [
      "Appropriate word embedding length for vocabulary: 13\n"
     ]
    }
   ],
   "source": [
    "##Determine accurate word embedding length. \n",
    "embedding_dimensions =  len(distinct_int)**0.25\n",
    "print('Appropriate word embedding length for vocabulary: '+str(round(embedding_dimensions)))"
   ]
  },
  {
   "cell_type": "code",
   "execution_count": 16,
   "metadata": {},
   "outputs": [
    {
     "data": {
      "image/png": "[encoded data removed]",
      "text/plain": [
       "<Figure size 640x480 with 1 Axes>"
      ]
     },
     "metadata": {},
     "output_type": "display_data"
    },
    {
     "data": {
      "text/plain": [
       "count    10261.000000\n",
       "mean        45.534743\n",
       "std         56.867032\n",
       "min          0.000000\n",
       "25%         16.000000\n",
       "50%         27.000000\n",
       "75%         52.000000\n",
       "max       1097.000000\n",
       "dtype: float64"
      ]
     },
     "execution_count": 16,
     "metadata": {},
     "output_type": "execute_result"
    }
   ],
   "source": [
    "reviews_len = [len(x) for x in reviews_int]\n",
    "pd.Series(reviews_len).hist()\n",
    "plt.show()\n",
    "pd.Series(reviews_len).describe()"
   ]
  },
  {
   "cell_type": "code",
   "execution_count": 17,
   "metadata": {},
   "outputs": [
    {
     "name": "stdout",
     "output_type": "stream",
     "text": [
      "[24, 53, 46, 20, 15, 26, 19, 84, 17, 24, 103, 16, 12, 9, 8, 60, 34, 29, 139, 15, 61, 14, 18, 38, 36, 12, 19, 15, 24, 12, 16, 14, 15, 27, 44, 15, 24, 13, 14, 42, 15, 5, 20, 11, 17, 27, 13, 19, 15, 42, 37, 13, 20, 26, 13, 27, 14, 23, 18, 11, 20, 24, 12, 13, 34, 16, 11, 15, 19, 16, 18, 25, 29, 87, 15, 56, 18, 39, 15, 9, 11, 13, 75, 14, 14, 10, 11, 35, 29, 14, 15, 12, 18, 39, 13, 18, 16, 21, 93, 13, 53, 91, 35, 80, 37, 8, 23, 23, 40, 43, 48, 43, 33, 50, 30, 13, 21, 40, 40, 16, 10, 24, 24, 82, 16, 24, 16, 20, 24, 38, 15, 15, 20, 19, 19, 39, 15, 10, 32, 74, 12, 12, 17, 30, 17, 11, 11, 14, 70, 14, 23, 49, 12, 86, 63, 34, 17, 42, 34, 50, 13, 35, 12, 9, 23, 15, 11, 15, 12, 24, 13, 24, 94, 40, 56, 13, 21, 83, 25, 14, 10, 25, 15, 25, 119, 20, 321, 27, 19, 38, 142, 15, 14, 23, 243, 24, 51, 60, 70, 24, 180, 16, 10, 35, 10, 23, 95, 24, 366, 15, 88, 31, 12, 12, 24, 35, 199, 124, 25, 12, 13, 25, 35, 20, 18, 22, 437, 14, 13, 12, 37, 14, 24, 13, 61, 35, 17, 21, 13, 10, 17, 13, 21, 24, 27, 13, 28, 18, 10, 14, 37, 29, 57, 36, 37, 136, 144, 32, 64, 51, 91, 27, 32, 42, 10, 13, 33, 11, 32, 16, 33, 12, 33, 11, 8, 34, 43, 47, 13, 5, 11, 68, 9, 23, 62, 35, 21, 19, 18, 13, 26, 40, 15, 14, 15, 23, 19, 13, 50, 10, 28, 106, 48, 26, 12, 21, 14, 72, 9, 13, 15, 13, 11, 28, 19, 33, 18, 15, 18, 38, 10, 25, 13, 17, 49, 17, 71, 17, 23, 21, 15, 38, 73, 27, 16, 10, 11, 13, 21, 34, 13, 34, 73, 17, 71, 10, 44, 87, 93, 13, 15, 236, 82, 64, 125, 155, 102, 39, 132, 61, 74, 26, 220, 32, 100, 323, 14, 207, 318, 151, 46, 493, 82, 183, 64, 61, 90, 85, 220, 18, 52, 93, 35, 23, 13, 9, 188, 13, 9, 63, 32, 48, 33, 9, 195, 24, 68, 25, 77, 32, 40, 186, 86, 231, 169, 61, 23, 35, 45, 77, 16, 61, 708, 31, 30, 38, 114, 25, 111, 104, 45, 59, 115, 46, 73, 69, 50, 22, 82, 39, 194, 106, 5, 33, 40, 19, 72, 13, 16, 14, 145, 21, 33, 33, 97, 26, 15, 191, 33, 107, 55, 29, 14, 99, 52, 63, 195, 18, 28, 16, 26, 22, 85, 48, 35, 20, 23, 75, 45, 20, 28, 58, 16, 10, 38, 47, 19, 44, 34, 19, 18, 14, 34, 32, 218, 108, 19, 20, 13, 40, 42, 18, 13, 19, 13, 18, 20, 76, 12, 9, 17, 93, 17, 18, 14, 16, 113, 12, 26, 12, 57, 41, 25, 15, 68, 70, 44, 32, 14, 25, 87, 16, 23, 16, 31, 77, 60, 135, 13, 27, 22, 22, 16, 21, 32, 28, 25, 18, 134, 41, 80, 9, 81, 28, 222, 78, 40, 15, 22, 46, 93, 18, 21, 83, 130, 35, 81, 76, 102, 17, 29, 16, 22, 13, 34, 12, 19, 20, 10, 9, 10, 10, 44, 25, 56, 28, 38, 19, 19, 26, 30, 42, 15, 27, 16, 52, 62, 60, 36, 56, 97, 11, 22, 15, 28, 40, 20, 19, 12, 55, 13, 12, 40, 15, 28, 23, 36, 17, 21, 180, 16, 48, 20, 17, 119, 20, 13, 48, 4, 68, 32, 12, 18, 12, 12, 37, 15, 16, 11, 22, 37, 14, 16, 19, 50, 14, 13, 11, 26, 12, 14, 13, 30, 11, 28, 66, 43, 60, 68, 63, 22, 25, 15, 24, 33, 69, 185, 16, 89, 97, 49, 22, 28, 89, 25, 74, 12, 12, 74, 13, 11, 21, 43, 52, 94, 13, 18, 24, 36, 34, 23, 16, 28, 16, 32, 27, 23, 51, 12, 19, 40, 14, 22, 34, 14, 13, 13, 10, 8, 27, 38, 401, 136, 97, 11, 12, 61, 26, 30, 25, 13, 29, 31, 13, 23, 51, 14, 72, 29, 22, 32, 29, 28, 16, 14, 21, 15, 28, 71, 110, 15, 33, 17, 46, 26, 28, 64, 16, 19, 180, 75, 20, 33, 12, 32, 167, 17, 14, 13, 13, 12, 21, 18, 12, 31, 33, 14, 22, 13, 65, 10, 9, 13, 19, 19, 11, 20, 13, 17, 20, 12, 13, 18, 33, 33, 21, 14, 23, 11, 19, 19, 11, 40, 50, 13, 82, 46, 33, 22, 11, 47, 8, 9, 36, 18, 21, 112, 27, 13, 11, 34, 12, 9, 14, 36, 15, 65, 36, 31, 38, 13, 81, 9, 54, 13, 38, 18, 29, 11, 31, 17, 2, 13, 45, 15, 53, 13, 48, 21, 17, 19, 59, 21, 36, 25, 12, 51, 45, 48, 27, 90, 85, 31, 47, 51, 15, 15, 18, 16, 15, 41, 22, 32, 11, 18, 12, 39, 27, 14, 9, 31, 51, 32, 12, 50, 145, 29, 70, 90, 11, 32, 17, 28, 22, 18, 23, 57, 13, 36, 70, 67, 48, 28, 104, 44, 37, 15, 118, 21, 17, 69, 14, 44, 16, 69, 15, 27, 33, 38, 57, 181, 33, 13, 44, 67, 14, 11, 12, 19, 36, 13, 21, 10, 51, 25, 37, 16, 13, 18, 12, 80, 24, 17, 14, 30, 126, 32, 43, 35, 12, 35, 27, 32, 57, 13, 23, 32, 12, 18, 14, 10, 16, 8, 21, 19, 29, 16, 18, 45, 14, 51, 25, 36, 35, 17, 70, 100, 325, 11, 28, 14, 9, 172, 73, 12, 29, 57, 11, 10, 35, 11, 15, 20, 28, 24, 35, 19, 20, 34, 28, 9, 60, 103, 33, 83, 35, 47, 50, 16, 34, 16, 10, 36, 46, 23, 34, 83, 20, 144, 12, 61, 4, 52, 13, 13, 21, 15, 27, 25, 12, 22, 16, 36, 25, 16, 25, 2, 9, 43, 36, 27, 8, 11, 36, 30, 9, 10, 12, 15, 9, 19, 16, 18, 44, 51, 15, 25, 11, 44, 17, 23, 17, 57, 40, 16, 19, 42, 17, 11, 35, 52, 14, 47, 18, 28, 36, 28, 20, 41, 46, 192, 28, 201, 13, 128, 36, 103, 195, 23, 116, 93, 38, 75, 19, 100, 13, 16, 15, 39, 15, 12, 14, 13, 13, 31, 31, 49, 25, 10, 10, 13, 26, 17, 18, 36, 13, 18, 10, 14, 64, 105, 36, 15, 93, 55, 70, 31, 89, 18, 56, 15, 13, 33, 19, 53, 14, 125, 67, 51, 13, 96, 48, 115, 19, 21, 27, 56, 127, 49, 85, 99, 22, 17, 17, 13, 15, 54, 76, 43, 16, 10, 15, 59, 19, 20, 18, 15, 25, 70, 46, 39, 60, 18, 12, 73, 257, 15, 23, 23, 10, 11, 12, 60, 40, 48, 37, 8, 11, 102, 13, 70, 14, 61, 18, 15, 17, 28, 44, 13, 26, 24, 47, 25, 57, 13, 34, 11, 43, 27, 18, 42, 14, 12, 41, 10, 25, 27, 10, 29, 34, 33, 126, 14, 14, 10, 27, 45, 13, 40, 8, 13, 26, 37, 8, 36, 15, 34, 16, 15, 64, 10, 16, 17, 24, 15, 28, 31, 18, 24, 35, 25, 55, 38, 84, 9, 11, 63, 28, 48, 71, 12, 16, 17, 49, 18, 18, 20, 12, 27, 23, 14, 13, 45, 35, 25, 18, 17, 18, 156, 26, 30, 57, 72, 11, 40, 73, 8, 18, 77, 23, 30, 24, 14, 32, 17, 14, 22, 18, 19, 26, 60, 18, 14, 43, 9, 19, 133, 12, 12, 38, 47, 30, 27, 14, 6, 17, 96, 12, 23, 23, 13, 10, 11, 57, 14, 45, 22, 22, 80, 29, 3, 29, 12, 18, 11, 40, 20, 17, 8, 11, 10, 34, 3, 23, 25, 13, 32, 12, 14, 17, 23, 17, 46, 48, 35, 85, 20, 34, 54, 29, 57, 21, 24, 42, 36, 20, 18, 13, 24, 23, 12, 17, 17, 39, 16, 30, 39, 11, 129, 18, 23, 10, 14, 28, 272, 12, 34, 22, 23, 33, 40, 15, 14, 29, 38, 83, 64, 9, 22, 12, 137, 65, 15, 13, 20, 22, 20, 20, 37, 22, 68, 87, 30, 44, 77, 62, 16, 30, 32, 15, 12, 21, 117, 19, 14, 13, 57, 21, 30, 33, 76, 73, 30, 135, 16, 34, 15, 10, 14, 12, 35, 53, 156, 21, 191, 37, 104, 9, 18, 14, 22, 158, 22, 24, 42, 21, 20, 34, 12, 59, 54, 33, 14, 13, 73, 14, 21, 23, 32, 39, 26, 13, 19, 15, 17, 176, 42, 28, 11, 14, 35, 67, 17, 11, 44, 12, 26, 14, 211, 18, 15, 34, 37, 34, 181, 58, 92, 31, 71, 30, 21, 18, 11, 168, 32, 67, 13, 37, 64, 16, 55, 8, 11, 97, 11, 10, 46, 19, 32, 55, 93, 35, 34, 8, 26, 18, 16, 82, 88, 59, 96, 16, 21, 60, 10, 51, 21, 11, 14, 39, 14, 29, 27, 11, 216, 71, 12, 10, 65, 40, 44, 165, 12, 22, 37, 30, 31, 8, 21, 22, 29, 43, 46, 24, 39, 41, 55, 23, 27, 37, 58, 101, 212, 40, 84, 30, 14, 31, 301, 11, 170, 40, 38, 87, 38, 26, 47, 24, 14, 92, 44, 14, 17, 23, 32, 55, 16, 21, 17, 87, 13, 41, 15, 92, 47, 11, 25, 18, 13, 19, 16, 18, 16, 18, 17, 7, 30, 17, 10, 39, 26, 10, 9, 39, 11, 28, 15, 37, 12, 51, 20, 31, 15, 31, 23, 26, 11, 44, 30, 23, 15, 55, 8, 38, 12, 12, 54, 25, 11, 13, 31, 31, 16, 10, 16, 27, 15, 10, 36, 20, 27, 27, 111, 13, 11, 17, 11, 13, 25, 24, 17, 34, 16, 17, 45, 83, 39, 49, 15, 38, 13, 23, 21, 22, 11, 10, 10, 28, 28, 11, 62, 14, 24, 17, 24, 11, 81, 13, 22, 12, 27, 114, 13, 23, 30, 12, 12, 16, 24, 14, 9, 55, 35, 34, 50, 106, 24, 48, 34, 17, 12, 9, 20, 17, 48, 13, 19, 136, 28, 39, 18, 10, 10, 10, 18, 101, 14, 68, 63, 15, 9, 18, 15, 26, 46, 11, 44, 10, 9, 35, 12, 12, 18, 96, 14, 102, 24, 15, 45, 40, 90, 33, 13, 47, 14, 46, 18, 13, 9, 14, 1, 16, 26, 19, 22, 188, 195, 42, 62, 13, 15, 12, 59, 24, 86, 28, 33, 26, 15, 30, 11, 20, 12, 26, 14, 42, 20, 38, 17, 79, 157, 8, 26, 31, 30, 19, 37, 59, 38, 35, 11, 13, 61, 15, 98, 108, 23, 44, 45, 33, 93, 71, 56, 13, 14, 71, 20, 117, 38, 238, 16, 138, 100, 39, 40, 242, 32, 13, 12, 107, 75, 33, 33, 15, 34, 193, 104, 44, 43, 44, 73, 28, 66, 27, 10, 68, 11, 14, 34, 23, 54, 80, 25, 17, 59, 32, 11, 9, 19, 36, 68, 36, 17, 54, 54, 59, 23, 37, 88, 16, 28, 28, 12, 67, 17, 18, 33, 16, 47, 22, 80, 9, 12, 11, 13, 105, 56, 21, 12, 53, 22, 36, 104, 227, 625, 135, 83, 604, 59, 41, 26, 22, 31, 68, 45, 17, 33, 13, 16, 43, 11, 16, 21, 62, 41, 11, 40, 21, 113, 79, 20, 32, 13, 102, 35, 44, 15, 11, 12, 19, 13, 72, 47, 45, 42, 58, 75, 30, 14, 30, 24, 86, 14, 16, 87, 45, 20, 28, 32, 73, 18, 25, 20, 39, 136, 84, 87, 162, 69, 30, 40, 53, 118, 192, 21, 37, 8, 157, 42, 38, 14, 31, 12, 14, 86, 54, 259, 9, 14, 16, 37, 14, 49, 353, 10, 240, 91, 77, 71, 12, 13, 66, 29, 46, 44, 27, 32, 80, 45, 164, 17, 30, 43, 10, 171, 41, 62, 48, 17, 50, 21, 17, 32, 23, 123, 27, 25, 9, 32, 19, 37, 21, 9, 28, 63, 35, 40, 40, 261, 239, 184, 18, 10, 121, 119, 28, 82, 35, 185, 72, 46, 42, 5, 101, 45, 79, 18, 86, 8, 138, 50, 44, 10, 32, 20, 38, 17, 11, 20, 19, 55, 15, 16, 38, 13, 13, 49, 28, 21, 26, 20, 38, 20, 27, 11, 14, 19, 14, 294, 9, 29, 49, 23, 12, 11, 69, 15, 43, 30, 10, 15, 45, 10, 26, 21, 39, 15, 33, 23, 24, 106, 21, 33, 10, 26, 256, 15, 21, 46, 102, 33, 59, 13, 180, 8, 29, 15, 80, 14, 34, 15, 48, 148, 16, 18, 17, 89, 13, 10, 9, 19, 35, 8, 14, 81, 27, 10, 53, 13, 12, 29, 57, 80, 26, 44, 79, 92, 21, 25, 58, 19, 22, 11, 22, 24, 56, 7, 93, 42, 37, 22, 113, 45, 13, 4, 40, 44, 8, 12, 13, 156, 14, 45, 36, 13, 36, 18, 22, 29, 50, 15, 15, 53, 18, 20, 20, 10, 28, 33, 35, 18, 98, 16, 20, 23, 22, 17, 64, 45, 158, 20, 245, 12, 38, 15, 73, 33, 15, 37, 22, 9, 61, 13, 50, 34, 30, 55, 56, 39, 22, 13, 69, 38, 11, 166, 36, 28, 82, 130, 30, 64, 18, 22, 16, 16, 38, 14, 13, 11, 11, 25, 10, 9, 27, 9, 13, 22, 36, 10, 22, 13, 70, 17, 15, 17, 35, 18, 16, 11, 12, 61, 24, 61, 25, 31, 49, 14, 9, 17, 40, 28, 39, 29, 123, 37, 105, 32, 14, 53, 48, 46, 22, 18, 33, 45, 12, 94, 56, 24, 44, 8, 48, 13, 22, 15, 28, 23, 44, 32, 72, 17, 115, 42, 35, 27, 54, 121, 80, 22, 20, 16, 13, 32, 215, 11, 11, 20, 56, 21, 22, 17, 22, 48, 14, 32, 36, 18, 15, 51, 19, 11, 23, 49, 37, 73, 20, 25, 53, 105, 9, 34, 9, 31, 16, 14, 25, 13, 17, 12, 23, 25, 41, 21, 30, 10, 28, 13, 37, 10, 20, 15, 71, 10, 22, 14, 12, 35, 26, 6, 26, 13, 15, 10, 52, 10, 34, 32, 22, 9, 115, 47, 22, 15, 17, 14, 48, 22, 22, 17, 16, 21, 24, 18, 15, 9, 55, 37, 27, 15, 10, 18, 14, 58, 22, 12, 39, 16, 58, 20, 29, 25, 13, 25, 257, 15, 36, 22, 52, 16, 12, 146, 43, 19, 12, 15, 8, 10, 55, 14, 29, 11, 15, 20, 78, 7, 20, 16, 23, 27, 18, 14, 30, 94, 31, 23, 2, 30, 36, 27, 16, 49, 31, 40, 146, 11, 20, 21, 56, 118, 29, 14, 120, 26, 76, 22, 13, 11, 39, 24, 74, 12, 44, 14, 64, 26, 22, 43, 22, 29, 15, 38, 16, 20, 12, 23, 36, 47, 24, 93, 20, 16, 29, 18, 16, 29, 16, 20, 27, 33, 12, 21, 18, 28, 35, 24, 11, 23, 12, 16, 17, 50, 11, 31, 28, 17, 16, 22, 37, 28, 17, 20, 99, 10, 21, 10, 43, 27, 41, 51, 12, 15, 25, 7, 12, 17, 86, 27, 37, 79, 94, 41, 15, 23, 42, 91, 159, 13, 17, 13, 17, 11, 15, 40, 13, 14, 53, 31, 15, 12, 11, 12, 14, 26, 33, 13, 29, 26, 16, 12, 15, 23, 14, 16, 5, 11, 23, 26, 12, 18, 16, 16, 10, 14, 9, 12, 15, 38, 18, 110, 13, 14, 12, 32, 14, 20, 15, 19, 22, 11, 35, 104, 5, 25, 43, 10, 25, 21, 15, 22, 15, 19, 12, 39, 11, 11, 14, 22, 12, 108, 30, 81, 50, 30, 69, 13, 52, 156, 132, 99, 83, 148, 27, 155, 49, 111, 67, 153, 118, 25, 19, 45, 26, 80, 17, 72, 94, 13, 14, 20, 28, 16, 11, 14, 24, 20, 39, 27, 94, 9, 277, 24, 14, 16, 42, 11, 20, 36, 58, 13, 16, 12, 14, 33, 15, 11, 23, 9, 68, 274, 11, 53, 91, 22, 21, 36, 70, 34, 31, 39, 23, 36, 41, 12, 46, 17, 123, 19, 12, 16, 178, 15, 25, 22, 81, 26, 27, 27, 20, 53, 104, 13, 19, 37, 11, 19, 47, 11, 23, 14, 10, 26, 10, 12, 12, 28, 19, 33, 19, 54, 35, 55, 24, 32, 63, 44, 76, 18, 68, 60, 37, 19, 29, 38, 10, 18, 86, 22, 12, 14, 43, 41, 15, 20, 58, 30, 24, 11, 24, 17, 26, 14, 38, 19, 52, 6, 13, 80, 14, 31, 39, 47, 15, 28, 13, 12, 27, 166, 30, 18, 19, 19, 50, 66, 66, 18, 9, 16, 21, 22, 30, 18, 67, 28, 9, 81, 24, 39, 60, 51, 24, 53, 22, 11, 25, 29, 44, 42, 47, 13, 9, 24, 17, 22, 14, 24, 18, 11, 74, 42, 14, 19, 60, 16, 29, 16, 14, 77, 28, 29, 25, 59, 55, 60, 16, 13, 66, 14, 32, 11, 22, 20, 13, 24, 10, 32, 41, 30, 23, 17, 23, 201, 96, 76, 33, 14, 42, 94, 26, 16, 13, 13, 17, 23, 12, 7, 78, 20, 132, 39, 31, 13, 45, 15, 31, 23, 18, 17, 37, 18, 10, 21, 15, 17, 21, 47, 56, 2, 24, 12, 78, 15, 14, 35, 44, 25, 33, 26, 158, 16, 9, 30, 118, 36, 12, 55, 16, 67, 53, 11, 20, 94, 24, 34, 27, 9, 232, 16, 14, 11, 34, 32, 73, 24, 16, 42, 13, 71, 54, 20, 30, 87, 290, 27, 18, 15, 37, 22, 0, 16, 11, 11, 35, 15, 14, 11, 23, 92, 25, 31, 191, 237, 83, 278, 29, 24, 39, 22, 36, 18, 64, 35, 12, 39, 32, 70, 65, 3, 28, 13, 14, 43, 60, 89, 282, 14, 55, 34, 34, 32, 17, 23, 17, 211, 35, 13, 18, 20, 23, 14, 23, 24, 35, 18, 26, 28, 15, 7, 39, 23, 31, 17, 54, 20, 24, 30, 64, 49, 26, 30, 48, 18, 24, 20, 18, 11, 11, 54, 13, 14, 10, 38, 18, 21, 7, 24, 65, 21, 15, 22, 26, 77, 30, 17, 46, 63, 14, 20, 18, 20, 62, 13, 81, 16, 8, 9, 19, 30, 8, 17, 18, 11, 18, 34, 33, 30, 22, 10, 20, 18, 27, 17, 26, 31, 11, 28, 44, 34, 13, 10, 40, 89, 28, 11, 12, 13, 25, 18, 38, 68, 12, 14, 12, 12, 12, 108, 19, 125, 49, 132, 14, 16, 18, 80, 16, 59, 67, 13, 127, 27, 71, 66, 12, 78, 12, 22, 13, 16, 261, 51, 16, 16, 12, 14, 20, 37, 30, 74, 25, 55, 23, 24, 19, 86, 195, 18, 13, 16, 30, 26, 19, 13, 70, 49, 15, 12, 42, 51, 9, 29, 44, 9, 16, 27, 13, 28, 11, 13, 16, 24, 20, 37, 21, 12, 18, 12, 46, 11, 21, 36, 13, 30, 26, 15, 18, 20, 16, 13, 35, 32, 53, 9, 42, 23, 14, 24, 26, 27, 14, 21, 15, 31, 14, 10, 15, 16, 24, 11, 41, 20, 11, 15, 12, 13, 24, 4, 19, 20, 15, 12, 10, 10, 19, 48, 22, 11, 25, 18, 15, 17, 34, 43, 18, 55, 22, 15, 51, 19, 16, 17, 47, 51, 33, 27, 23, 113, 97, 106, 74, 112, 39, 92, 78, 2, 113, 17, 23, 35, 31, 11, 21, 11, 43, 19, 15, 36, 34, 17, 14, 29, 23, 110, 14, 11, 14, 18, 27, 15, 24, 28, 13, 12, 10, 17, 28, 8, 14, 55, 11, 16, 11, 29, 7, 32, 11, 12, 35, 21, 21, 13, 22, 38, 17, 16, 92, 30, 20, 119, 22, 19, 12, 31, 39, 36, 102, 11, 25, 36, 25, 65, 11, 15, 15, 14, 24, 13, 19, 33, 12, 48, 23, 37, 13, 2, 15, 14, 37, 14, 64, 40, 21, 12, 22, 20, 11, 14, 14, 14, 80, 43, 13, 21, 20, 20, 39, 26, 15, 13, 25, 10, 11, 21, 31, 32, 22, 25, 36, 50, 48, 19, 34, 54, 27, 15, 12, 48, 28, 18, 25, 73, 32, 26, 23, 12, 21, 46, 13, 13, 10, 65, 12, 13, 36, 100, 50, 48, 17, 168, 69, 93, 84, 187, 90, 47, 9, 9, 35, 16, 11, 37, 19, 70, 23, 13, 15, 18, 69, 20, 12, 61, 18, 7, 9, 14, 34, 19, 22, 15, 18, 10, 38, 13, 10, 11, 17, 17, 3, 18, 11, 12, 29, 11, 31, 34, 18, 31, 36, 12, 14, 21, 11, 89, 28, 18, 60, 30, 51, 18, 18, 13, 36, 96, 40, 46, 29, 52, 14, 81, 42, 60, 54, 54, 27, 79, 33, 55, 126, 214, 59, 215, 50, 15, 14, 16, 84, 84, 12, 61, 29, 14, 14, 43, 35, 17, 33, 44, 29, 9, 46, 12, 24, 87, 106, 26, 12, 13, 39, 36, 42, 43, 210, 15, 13, 50, 16, 17, 17, 21, 12, 42, 37, 29, 23, 92, 16, 16, 19, 13, 24, 15, 24, 20, 11, 15, 48, 14, 61, 11, 29, 11, 11, 15, 14, 24, 80, 12, 94, 15, 105, 71, 55, 40, 47, 148, 78, 118, 52, 12, 48, 30, 27, 68, 42, 24, 51, 87, 19, 41, 30, 103, 14, 13, 49, 10, 39, 14, 42, 14, 26, 25, 12, 10, 10, 27, 19, 8, 14, 58, 15, 19, 26, 52, 129, 15, 46, 51, 24, 40, 39, 64, 34, 65, 23, 33, 18, 69, 53, 22, 72, 86, 29, 14, 22, 25, 31, 88, 20, 15, 114, 12, 15, 12, 14, 19, 20, 23, 34, 46, 57, 129, 77, 46, 94, 68, 15, 29, 13, 14, 12, 12, 18, 48, 23, 93, 857, 27, 35, 14, 27, 16, 27, 17, 84, 27, 119, 17, 29, 69, 36, 17, 54, 31, 26, 62, 80, 42, 45, 24, 13, 12, 30, 27, 20, 17, 7, 28, 19, 49, 23, 27, 43, 74, 15, 23, 13, 39, 9, 34, 8, 31, 40, 16, 18, 68, 7, 9, 19, 28, 33, 70, 42, 27, 13, 9, 12, 32, 17, 11, 11, 58, 33, 13, 10, 9, 38, 47, 19, 16, 30, 13, 11, 6, 12, 21, 25, 23, 30, 32, 20, 11, 16, 49, 17, 115, 12, 30, 11, 42, 18, 36, 14, 25, 17, 25, 21, 9, 15, 12, 42, 43, 72, 43, 137, 41, 146, 14, 11, 71, 14, 127, 81, 38, 38, 15, 30, 117, 36, 16, 66, 8, 69, 71, 23, 48, 11, 28, 11, 75, 84, 36, 6, 16, 31, 21, 34, 38, 17, 30, 23, 258, 42, 69, 50, 47, 28, 8, 28, 11, 15, 46, 16, 35, 228, 20, 22, 51, 52, 59, 30, 45, 10, 48, 125, 326, 77, 24, 43, 18, 117, 66, 127, 76, 39, 35, 16, 100, 72, 13, 24, 12, 26, 77, 30, 14, 21, 32, 31, 14, 23, 35, 61, 11, 3, 107, 12, 12, 28, 173, 14, 104, 63, 84, 44, 55, 22, 48, 17, 25, 14, 43, 25, 21, 21, 13, 21, 55, 22, 10, 20, 2, 69, 2, 16, 13, 33, 16, 12, 28, 48, 48, 39, 21, 30, 73, 106, 57, 38, 22, 35, 63, 47, 24, 7, 26, 74, 31, 104, 71, 21, 12, 99, 18, 24, 69, 69, 21, 29, 10, 16, 21, 36, 326, 30, 28, 32, 54, 13, 10, 14, 78, 25, 13, 74, 13, 17, 11, 39, 47, 21, 39, 13, 18, 16, 25, 22, 17, 14, 15, 10, 23, 42, 11, 51, 15, 41, 35, 4, 39, 25, 13, 55, 157, 35, 30, 11, 10, 15, 12, 36, 11, 10, 15, 22, 50, 25, 13, 18, 48, 49, 76, 16, 20, 66, 100, 15, 86, 25, 50, 26, 12, 48, 15, 73, 12, 16, 29, 28, 17, 22, 33, 22, 31, 10, 8, 13, 17, 29, 50, 12, 29, 12, 124, 14, 10, 14, 15, 10, 59, 15, 40, 20, 22, 18, 27, 36, 17, 11, 12, 18, 41, 12, 28, 13, 21, 8, 30, 28, 8, 12, 34, 45, 43, 10, 13, 41, 26, 13, 17, 21, 46, 74, 21, 12, 27, 19, 64, 10, 23, 12, 13, 34, 12, 9, 25, 21, 20, 13, 47, 36, 8, 20, 12, 11, 28, 52, 13, 57, 23, 11, 15, 14, 15, 17, 28, 22, 100, 33, 20, 54, 40, 32, 40, 23, 57, 22, 26, 112, 23, 45, 20, 57, 47, 76, 151, 21, 12, 17, 33, 71, 81, 18, 25, 41, 106, 143, 11, 13, 26, 10, 40, 83, 14, 13, 73, 10, 101, 27, 12, 29, 13, 58, 97, 49, 35, 13, 40, 92, 15, 57, 14, 35, 102, 16, 25, 20, 62, 11, 13, 22, 17, 20, 143, 97, 61, 14, 11, 83, 142, 23, 13, 26, 24, 43, 176, 14, 32, 81, 31, 11, 12, 28, 19, 8, 19, 20, 29, 18, 22, 32, 26, 34, 22, 64, 14, 116, 89, 65, 20, 13, 13, 11, 70, 70, 77, 45, 52, 38, 41, 26, 129, 19, 57, 68, 8, 20, 14, 33, 9, 171, 15, 11, 132, 34, 25, 46, 109, 140, 34, 29, 35, 91, 196, 69, 143, 16, 29, 24, 23, 101, 32, 250, 156, 65, 40, 44, 56, 61, 90, 15, 160, 25, 67, 41, 163, 46, 154, 55, 40, 37, 11, 67, 55, 24, 26, 29, 43, 116, 20, 86, 21, 45, 27, 85, 230, 54, 64, 72, 214, 13, 15, 17, 10, 17, 9, 31, 16, 84, 12, 135, 10, 14, 19, 20, 12, 63, 36, 15, 19, 10, 11, 16, 15, 99, 11, 108, 369, 30, 189, 29, 42, 18, 18, 33, 35, 14, 44, 10, 19, 11, 16, 28, 28, 41, 18, 8, 14, 13, 14, 19, 16, 74, 15, 50, 73, 32, 19, 36, 95, 9, 34, 22, 23, 19, 19, 42, 25, 15, 18, 37, 31, 42, 22, 54, 15, 54, 26, 21, 12, 31, 31, 17, 47, 240, 36, 86, 68, 104, 37, 74, 186, 78, 24, 14, 35, 179, 70, 186, 19, 30, 16, 17, 36, 16, 11, 12, 53, 44, 24, 61, 84, 128, 45, 83, 22, 50, 81, 47, 38, 131, 11, 43, 66, 17, 66, 25, 33, 17, 26, 29, 17, 18, 22, 26, 23, 27, 18, 24, 15, 91, 12, 137, 46, 43, 12, 12, 34, 17, 27, 36, 65, 137, 64, 79, 35, 14, 25, 16, 74, 36, 75, 100, 14, 3, 17, 14, 13, 21, 21, 68, 10, 18, 26, 0, 10, 15, 70, 17, 14, 30, 33, 20, 47, 20, 44, 32, 52, 43, 19, 30, 123, 16, 36, 27, 22, 13, 68, 37, 70, 11, 182, 18, 136, 37, 17, 28, 48, 108, 11, 45, 215, 35, 76, 38, 55, 23, 36, 297, 37, 10, 42, 22, 75, 25, 14, 35, 152, 79, 33, 34, 85, 24, 54, 18, 27, 28, 17, 8, 30, 18, 34, 24, 28, 39, 31, 38, 39, 118, 12, 40, 31, 12, 21, 47, 35, 51, 24, 41, 7, 11, 73, 12, 11, 15, 28, 26, 19, 17, 19, 19, 13, 19, 67, 13, 14, 19, 1, 17, 15, 32, 14, 26, 12, 77, 13, 20, 14, 49, 45, 14, 17, 13, 13, 21, 48, 125, 76, 40, 126, 20, 87, 43, 28, 256, 88, 77, 98, 17, 90, 15, 36, 94, 15, 22, 16, 8, 15, 69, 69, 26, 134, 47, 30, 13, 53, 40, 34, 15, 15, 20, 19, 11, 33, 51, 16, 20, 13, 57, 58, 11, 108, 10, 23, 17, 14, 18, 235, 12, 15, 60, 12, 56, 42, 26, 102, 14, 44, 17, 19, 34, 45, 51, 108, 50, 20, 42, 22, 22, 38, 12, 24, 62, 23, 46, 14, 16, 68, 12, 19, 22, 22, 12, 10, 16, 22, 20, 33, 45, 40, 15, 18, 53, 18, 44, 13, 9, 31, 12, 15, 23, 26, 32, 17, 15, 2, 66, 15, 67, 9, 65, 10, 14, 18, 53, 38, 22, 42, 16, 23, 20, 47, 20, 26, 14, 17, 237, 51, 23, 27, 9, 31, 36, 11, 15, 17, 16, 11, 16, 72, 15, 19, 36, 35, 20, 63, 17, 37, 41, 18, 59, 19, 11, 23, 55, 32, 19, 30, 58, 16, 18, 19, 18, 16, 13, 64, 54, 12, 19, 11, 75, 18, 34, 82, 58, 59, 18, 11, 14, 40, 25, 227, 41, 17, 60, 32, 213, 21, 80, 53, 86, 35, 67, 104, 30, 14, 24, 15, 18, 28, 23, 39, 25, 41, 84, 21, 44, 22, 30, 21, 21, 18, 20, 49, 89, 194, 195, 24, 241, 28, 95, 26, 49, 30, 151, 20, 12, 10, 25, 24, 25, 22, 17, 12, 12, 12, 14, 9, 32, 51, 47, 41, 18, 60, 102, 143, 79, 26, 88, 47, 67, 43, 103, 28, 26, 62, 43, 44, 17, 65, 20, 10, 14, 26, 21, 2, 40, 20, 123, 16, 14, 46, 38, 60, 93, 178, 18, 16, 112, 10, 13, 16, 54, 19, 13, 42, 37, 36, 39, 60, 64, 134, 23, 25, 99, 60, 36, 58, 38, 19, 185, 78, 81, 17, 30, 33, 181, 93, 25, 62, 44, 53, 159, 28, 41, 37, 85, 147, 50, 143, 34, 20, 12, 24, 20, 24, 29, 33, 9, 11, 39, 24, 20, 39, 12, 59, 53, 18, 75, 123, 14, 35, 26, 20, 141, 22, 18, 130, 16, 41, 38, 11, 28, 19, 67, 25, 31, 51, 166, 29, 33, 11, 78, 26, 19, 29, 14, 30, 14, 23, 11, 10, 43, 42, 36, 68, 30, 16, 105, 826, 107, 28, 62, 14, 82, 72, 28, 80, 135, 39, 9, 36, 29, 77, 10, 106, 10, 13, 12, 60, 15, 44, 49, 50, 20, 9, 133, 97, 58, 30, 14, 81, 72, 44, 13, 98, 50, 29, 54, 55, 65, 146, 364, 156, 84, 15, 18, 20, 306, 60, 203, 42, 148, 49, 80, 13, 19, 38, 29, 35, 44, 26, 86, 69, 126, 94, 14, 22, 65, 89, 130, 85, 35, 55, 68, 253, 52, 137, 154, 43, 20, 41, 29, 19, 91, 92, 32, 12, 13, 63, 52, 21, 34, 24, 37, 67, 77, 13, 21, 9, 13, 20, 66, 396, 42, 15, 23, 26, 20, 17, 48, 16, 20, 22, 63, 8, 90, 20, 53, 33, 28, 16, 113, 33, 15, 13, 27, 111, 13, 67, 104, 80, 30, 30, 108, 19, 22, 49, 50, 32, 23, 15, 110, 119, 32, 17, 30, 124, 46, 433, 60, 62, 17, 17, 11, 34, 28, 25, 84, 45, 16, 20, 56, 12, 16, 9, 42, 63, 148, 18, 12, 104, 25, 32, 23, 26, 16, 13, 16, 51, 18, 23, 11, 17, 10, 6, 114, 199, 14, 13, 21, 30, 53, 31, 12, 55, 35, 12, 16, 26, 19, 77, 31, 11, 208, 92, 12, 17, 8, 70, 76, 417, 10, 14, 197, 61, 86, 12, 27, 52, 16, 47, 195, 62, 13, 185, 35, 27, 28, 25, 25, 72, 123, 53, 28, 121, 12, 25, 14, 30, 26, 11, 40, 30, 13, 38, 24, 22, 50, 14, 13, 34, 21, 10, 96, 17, 26, 34, 2, 22, 29, 24, 18, 79, 31, 25, 14, 25, 28, 44, 48, 70, 23, 39, 27, 26, 66, 34, 24, 12, 41, 32, 17, 48, 67, 45, 19, 17, 21, 11, 33, 40, 106, 57, 71, 24, 20, 25, 10, 22, 71, 19, 33, 237, 13, 93, 113, 10, 86, 90, 20, 18, 171, 11, 77, 13, 20, 19, 24, 13, 38, 14, 20, 96, 10, 93, 25, 78, 200, 102, 235, 62, 88, 184, 59, 20, 160, 248, 140, 30, 19, 95, 64, 19, 14, 16, 10, 21, 12, 15, 46, 8, 44, 36, 18, 12, 14, 64, 21, 102, 15, 38, 30, 43, 23, 23, 28, 23, 21, 10, 22, 19, 27, 30, 23, 62, 41, 21, 51, 128, 83, 55, 53, 55, 12, 41, 28, 28, 65, 116, 11, 126, 28, 113, 73, 13, 68, 12, 22, 291, 35, 13, 16, 4, 23, 31, 14, 10, 9, 18, 25, 60, 12, 28, 11, 31, 33, 12, 40, 39, 12, 28, 44, 13, 21, 89, 26, 16, 12, 15, 12, 19, 43, 18, 15, 8, 18, 12, 42, 15, 43, 15, 23, 10, 11, 12, 15, 17, 88, 61, 126, 66, 81, 41, 123, 73, 56, 13, 65, 14, 37, 31, 13, 23, 21, 61, 24, 14, 17, 27, 22, 12, 13, 8, 110, 50, 18, 53, 70, 89, 25, 51, 110, 13, 51, 22, 17, 15, 10, 22, 20, 13, 67, 43, 22, 13, 93, 118, 67, 147, 225, 43, 60, 56, 131, 53, 121, 69, 79, 13, 23, 12, 13, 48, 27, 58, 33, 26, 12, 34, 29, 34, 32, 46, 64, 55, 26, 21, 16, 40, 85, 14, 10, 201, 25, 100, 10, 21, 44, 54, 16, 13, 94, 84, 15, 29, 40, 11, 41, 52, 55, 55, 88, 229, 32, 30, 98, 11, 12, 22, 23, 60, 21, 22, 36, 32, 45, 87, 128, 32, 196, 130, 166, 72, 198, 80, 208, 22, 54, 103, 18, 14, 32, 26, 12, 12, 20, 49, 16, 36, 18, 10, 32, 121, 41, 49, 54, 37, 12, 35, 23, 156, 13, 16, 33, 10, 9, 21, 13, 19, 11, 17, 14, 15, 23, 17, 14, 26, 28, 61, 13, 18, 51, 11, 15, 17, 21, 14, 12, 22, 32, 13, 18, 33, 29, 20, 10, 11, 11, 109, 139, 115, 27, 102, 18, 11, 20, 10, 49, 36, 35, 18, 28, 20, 48, 56, 21, 53, 26, 134, 65, 5, 16, 56, 18, 10, 26, 11, 19, 24, 4, 23, 45, 53, 227, 29, 14, 58, 44, 223, 20, 90, 43, 79, 12, 44, 320, 14, 88, 46, 133, 16, 61, 320, 110, 26, 175, 98, 50, 315, 16, 65, 9, 39, 62, 15, 57, 28, 24, 73, 19, 35, 32, 15, 23, 18, 18, 54, 15, 16, 26, 96, 113, 229, 227, 16, 70, 18, 191, 25, 68, 306, 85, 18, 31, 14, 38, 38, 13, 17, 35, 17, 18, 52, 17, 65, 21, 12, 34, 25, 13, 35, 38, 36, 26, 11, 52, 16, 42, 12, 28, 15, 21, 79, 38, 28, 13, 20, 14, 67, 24, 100, 85, 29, 13, 45, 12, 64, 30, 92, 89, 56, 42, 57, 28, 29, 33, 87, 51, 14, 41, 168, 71, 29, 125, 33, 63, 34, 12, 24, 217, 45, 41, 78, 32, 40, 14, 17, 13, 31, 89, 15, 42, 20, 30, 85, 99, 111, 26, 48, 12, 204, 69, 156, 101, 37, 26, 196, 64, 231, 108, 592, 18, 29, 33, 112, 9, 21, 15, 198, 28, 9, 10, 12, 10, 11, 6, 16, 26, 13, 14, 73, 12, 11, 27, 16, 40, 23, 14, 24, 28, 23, 10, 15, 54, 18, 12, 8, 13, 39, 181, 43, 157, 89, 190, 34, 9, 8, 14, 18, 61, 14, 107, 60, 19, 33, 32, 52, 13, 117, 28, 95, 10, 22, 15, 13, 44, 15, 15, 92, 13, 10, 11, 21, 14, 62, 221, 44, 131, 24, 52, 41, 182, 100, 241, 194, 54, 20, 40, 50, 12, 15, 11, 30, 39, 36, 97, 76, 25, 35, 16, 144, 65, 27, 10, 18, 11, 12, 15, 14, 33, 14, 27, 17, 10, 14, 41, 17, 24, 17, 31, 27, 84, 36, 18, 13, 21, 15, 25, 16, 10, 36, 25, 13, 12, 23, 13, 17, 19, 56, 10, 23, 35, 40, 111, 15, 11, 22, 31, 31, 117, 10, 11, 17, 130, 71, 118, 52, 23, 40, 76, 14, 20, 99, 103, 86, 58, 13, 28, 113, 15, 99, 14, 21, 30, 45, 63, 22, 27, 17, 17, 33, 69, 17, 9, 19, 16, 34, 13, 13, 23, 89, 5, 20, 7, 41, 27, 12, 17, 64, 38, 46, 124, 24, 14, 41, 47, 38, 16, 64, 19, 118, 98, 15, 66, 11, 17, 12, 51, 19, 103, 16, 76, 20, 54, 143, 28, 42, 23, 50, 12, 45, 147, 80, 77, 111, 597, 28, 22, 16, 36, 19, 30, 10, 77, 23, 91, 311, 19, 31, 23, 21, 26, 27, 22, 44, 28, 17, 13, 18, 45, 44, 25, 13, 30, 47, 108, 61, 26, 15, 11, 91, 19, 11, 19, 22, 22, 17, 40, 10, 14, 35, 139, 60, 34, 53, 42, 37, 11, 35, 12, 87, 40, 21, 21, 36, 14, 12, 15, 67, 12, 23, 15, 19, 39, 50, 14, 13, 15, 22, 70, 24, 16, 56, 64, 67, 27, 25, 59, 31, 20, 25, 25, 19, 16, 11, 15, 33, 17, 17, 52, 11, 12, 14, 140, 71, 26, 94, 97, 162, 66, 45, 28, 14, 17, 22, 29, 74, 221, 63, 14, 19, 30, 36, 41, 15, 22, 33, 9, 11, 19, 21, 15, 27, 54, 40, 41, 40, 49, 18, 27, 38, 42, 14, 135, 45, 10, 28, 27, 39, 12, 89, 11, 19, 25, 55, 18, 49, 134, 56, 48, 19, 12, 15, 30, 50, 72, 13, 14, 92, 28, 16, 232, 62, 97, 51, 22, 29, 46, 31, 42, 21, 17, 52, 17, 45, 13, 11, 20, 34, 29, 34, 42, 76, 53, 69, 67, 158, 29, 60, 65, 62, 32, 33, 24, 57, 13, 30, 12, 69, 191, 111, 22, 45, 24, 161, 39, 12, 21, 116, 171, 169, 243, 161, 79, 75, 176, 364, 24, 15, 18, 39, 121, 12, 48, 113, 40, 13, 124, 61, 113, 20, 57, 37, 20, 56, 101, 57, 30, 7, 13, 27, 21, 27, 36, 62, 47, 159, 175, 11, 46, 17, 66, 15, 20, 20, 29, 15, 30, 16, 33, 35, 15, 20, 17, 11, 18, 18, 12, 14, 49, 53, 49, 48, 36, 14, 128, 60, 27, 23, 14, 25, 23, 18, 43, 144, 69, 20, 17, 13, 18, 18, 29, 70, 19, 169, 130, 9, 17, 12, 54, 15, 45, 16, 15, 138, 14, 55, 14, 14, 16, 13, 14, 18, 16, 8, 31, 89, 8, 9, 19, 26, 36, 11, 14, 26, 10, 22, 11, 8, 12, 16, 112, 43, 73, 9, 36, 13, 14, 40, 18, 13, 30, 10, 11, 17, 41, 15, 74, 41, 24, 76, 22, 10, 66, 49, 10, 29, 13, 9, 2, 13, 15, 20, 11, 21, 68, 18, 18, 12, 16, 11, 11, 10, 13, 40, 11, 25, 32, 16, 13, 15, 42, 52, 17, 20, 143, 35, 19, 25, 29, 78, 32, 69, 31, 39, 113, 76, 58, 27, 38, 24, 41, 13, 18, 121, 38, 22, 268, 53, 28, 54, 10, 73, 55, 33, 22, 44, 33, 84, 14, 19, 19, 12, 10, 25, 54, 25, 20, 18, 25, 48, 28, 45, 269, 77, 20, 190, 139, 217, 339, 62, 24, 17, 23, 27, 14, 28, 24, 146, 14, 24, 152, 22, 53, 15, 106, 16, 21, 17, 12, 27, 101, 62, 189, 12, 20, 22, 21, 31, 33, 34, 18, 30, 16, 9, 156, 14, 41, 37, 31, 17, 18, 41, 225, 52, 14, 83, 19, 104, 59, 50, 188, 20, 33, 109, 17, 21, 21, 44, 62, 22, 81, 29, 103, 13, 41, 63, 61, 36, 19, 11, 33, 28, 38, 33, 40, 32, 84, 19, 46, 41, 22, 25, 31, 61, 14, 36, 43, 31, 10, 32, 31, 29, 146, 49, 13, 4, 45, 12, 15, 20, 15, 192, 173, 60, 104, 53, 18, 171, 21, 22, 16, 39, 40, 26, 74, 92, 30, 59, 99, 26, 75, 100, 27, 28, 36, 25, 12, 17, 129, 99, 43, 37, 33, 31, 21, 251, 17, 13, 21, 26, 36, 19, 33, 30, 51, 44, 17, 12, 55, 7, 15, 19, 24, 27, 18, 101, 20, 1097, 68, 33, 173, 50, 133, 48, 29, 31, 18, 46, 242, 141, 192, 26, 112, 10, 26, 11, 9, 110, 31, 19, 18, 52, 75, 182, 44, 267, 43, 52, 12, 19, 28, 48, 19, 228, 11, 4, 11, 33, 15, 26, 15, 27, 14, 53, 10, 9, 61, 13, 16, 29, 35, 16, 30, 94, 64, 17, 67, 16, 11, 18, 18, 11, 167, 147, 78, 89, 291, 31, 25, 105, 88, 13, 118, 289, 180, 356, 163, 25, 12, 46, 10, 28, 19, 22, 11, 45, 117, 17, 25, 19, 15, 15, 23, 41, 40, 66, 62, 20, 59, 103, 33, 16, 55, 18, 41, 10, 16, 32, 15, 21, 64, 211, 18, 37, 28, 12, 13, 47, 9, 17, 16, 15, 26, 160, 67, 22, 56, 65, 203, 33, 11, 15, 12, 43, 19, 16, 16, 37, 44, 28, 18, 55, 45, 10, 39, 6, 67, 38, 24, 9, 50, 12, 19, 29, 37, 11, 26, 15, 48, 10, 26, 79, 99, 68, 161, 98, 113, 42, 91, 22, 82, 28, 102, 19, 13, 13, 12, 9, 16, 336, 12, 17, 20, 26, 17, 17, 9, 22, 21, 12, 10, 12, 11, 15, 22, 12, 16, 10, 10, 10, 12, 14, 14, 12, 20, 9, 12, 7, 20, 14, 12, 11, 9, 44, 16, 18, 11, 15, 9, 10, 22, 10, 9, 17, 15, 12, 9, 39, 16, 17, 37, 45, 12, 14, 10, 41, 13, 11, 10, 20, 13, 24, 11, 17, 15, 11, 27, 50, 18, 15, 39, 18, 33, 12, 96, 19, 25, 97, 29, 22, 17, 74, 32, 14, 9, 12, 10, 18, 16, 19, 38, 13, 11, 44, 54, 17, 11, 35, 52, 14, 17, 12, 36, 10, 8, 11, 23, 47, 10, 12, 34, 23, 16, 9, 20, 22, 10, 45, 14, 42, 14, 43, 10, 34, 27, 11, 21, 27, 33, 17, 45, 16, 14, 15, 13, 22, 37, 10, 8, 10, 16, 36, 12, 25, 57, 53, 42, 21, 152, 27, 21, 115, 152, 176, 61, 35, 47, 108, 292, 249, 31, 216, 70, 48, 259, 28, 63, 17, 110, 306, 28, 35, 77, 56, 215, 43, 280, 11, 3, 26, 164, 21, 52, 31, 28, 16, 14, 26, 35, 39, 11, 21, 14, 38, 19, 22, 72, 22, 19, 25, 10, 78, 25, 22, 124, 16, 182, 24, 81, 11, 11, 24, 36, 67, 30, 117, 25, 34, 49, 113, 65, 58, 115, 253, 193, 61, 12, 168, 72, 14, 14, 144, 21, 12, 41, 19, 42, 217, 91, 21, 157, 33, 66, 87, 63, 23, 19, 16, 33, 39, 39, 30, 32, 31, 13, 130, 13, 27, 31, 19, 14, 114, 44, 15, 77, 29, 12, 36, 21, 35, 86, 16, 13, 24, 18, 174, 30, 39, 25, 135, 18, 74, 20, 40, 20, 51, 35, 23, 16, 13, 28, 121, 37, 21, 14, 57, 36, 10, 97, 53, 81, 20, 22, 68, 79, 234, 11, 8, 22, 19, 20, 64, 8, 9, 37, 14, 13, 10, 8, 10, 23, 16, 13, 36, 27, 19, 36, 46, 13, 10, 26, 13, 11, 19, 21, 21, 26, 35, 14, 24, 9, 41, 17, 15, 30, 14, 13, 23, 10, 24, 18, 13, 14, 16, 40, 64, 36, 24, 9, 16, 28, 14, 119, 24, 11, 11, 15, 26, 13, 16, 13, 12, 38, 11, 18, 16, 15, 15, 34, 25, 11, 19, 17, 16, 4, 14, 10, 27, 133, 17, 46, 51, 55, 41, 17, 42, 36, 44, 85, 95, 14, 22, 112, 63, 15, 95, 9, 93, 14, 14, 20, 32, 32, 12, 14, 14, 99, 16, 79, 43, 63, 11, 13, 19, 58, 28, 127, 23, 14, 24, 106, 288, 31, 125, 181, 51, 52, 8, 30, 14, 28, 60, 317, 97, 15, 29, 254, 194, 35, 97, 105, 21, 156, 23, 15, 78, 25, 13, 32, 132, 150, 16, 12, 97, 71, 30, 12, 12, 15, 13, 36, 22, 67, 172, 33, 13, 49, 17, 17, 13, 39, 8, 27, 14, 16, 11, 59, 23, 16, 68, 79, 16, 183, 74, 59, 80, 66, 33, 24, 54, 13, 92, 40, 13, 70, 9, 71, 194, 246, 41, 38, 186, 167, 85, 83, 138, 68, 19, 84, 25, 103, 12, 77, 37, 24, 37, 20, 26, 371, 201, 156, 106, 30, 98, 269, 70, 24, 67, 239, 127, 17, 44, 8, 35, 11, 11, 35, 12, 29, 16, 24, 18, 45, 13, 65, 13, 78, 56, 39, 24, 28, 20, 12, 21, 11, 11, 21, 52, 18, 25, 22, 38, 42, 48, 69, 13, 39, 11, 27, 12, 15, 36, 51, 7, 60, 11, 15, 14, 13, 16, 140, 13, 93, 34, 48, 19, 11, 117, 75, 84, 23, 182, 12, 93, 18, 68, 23, 12, 44, 41, 12, 10, 24, 37, 11, 14, 20, 34, 54, 14, 13, 17, 32, 20, 43, 15, 73, 41, 10, 30, 18, 20, 29, 25, 18, 60, 24, 18, 7, 31, 21, 25, 47, 132, 53, 25, 232, 189, 98, 15, 56, 56, 83, 19, 21, 11, 18, 28, 11, 13, 21, 53, 27, 32, 17, 9, 38, 68, 327, 35, 25, 13, 12, 13, 37, 178, 88, 26, 17, 287, 38, 35, 15, 111, 36, 42, 17, 24, 13, 122, 9, 53, 17, 10, 9, 14, 20, 14, 22, 35, 181, 28, 36, 30, 26, 34, 82, 60, 40, 139, 16, 59, 51, 57, 7, 15, 89, 75, 105, 37, 17, 117, 76, 25, 253, 23, 11, 24, 155, 13, 263, 124, 200, 58, 95, 87, 20, 62, 62, 88, 34, 10, 62, 32, 12, 251, 17, 59, 35, 27, 13, 173, 22, 13, 49, 32, 39, 10, 16, 14, 15, 65, 38, 17, 88, 40, 76, 62, 21, 11, 22, 49, 88, 145, 26, 15, 31, 52, 13, 10, 65, 106, 8, 20, 138, 46, 13, 142, 22, 9, 20, 12, 164, 56, 92, 18, 63, 227, 61, 17, 18, 104, 17, 88, 43, 18, 16, 78, 46, 46, 25, 63, 93, 19, 97, 66, 38, 210, 62, 16, 12, 91, 29, 187, 52, 17, 27, 66, 17, 20, 24, 26, 40, 17, 62, 14, 16, 120, 66, 15, 34, 11, 29, 18, 4, 43, 13, 17, 11, 34, 15, 20, 10, 23, 25, 19, 41, 12, 10, 140, 30, 9, 18, 63, 108, 38, 42, 50, 45, 37, 8, 33, 12, 43, 39, 17, 14, 17, 92, 7, 13, 23, 23, 42, 99, 14, 13, 9, 24, 12, 152, 17, 19, 102, 18, 20, 16, 34, 17, 12, 21, 18, 59, 30, 32, 8, 26, 15, 10, 28, 18, 31, 16, 33, 14, 85, 26, 23, 22, 13, 26, 23, 26, 33, 6, 8, 13, 16, 30, 50, 34, 49, 16, 14, 68, 31, 283, 37, 174, 67, 325, 3, 45, 112, 13, 34, 19, 17, 21, 19, 20, 132, 11, 22, 9, 39, 62, 199, 25, 30, 184, 26, 69, 23, 76, 163, 6, 20, 12, 13, 9, 24, 26, 44, 19, 10, 65, 32, 57, 77, 156, 28, 15, 373, 290, 133, 22, 12, 25, 11, 52, 21, 14, 60, 55, 42, 45, 123, 23, 24, 19, 28, 13, 32, 32, 12, 39, 14, 43, 42, 3, 44, 44, 18, 11, 49, 45, 17, 11, 23, 30, 24, 56, 46, 70, 45, 52, 39, 53, 46, 16, 18, 9, 42, 109, 13, 2, 39, 19, 10, 98, 15, 71, 23, 17, 12, 10, 39, 10, 34, 12, 19, 12, 32, 26, 26, 12, 13, 16, 16, 62, 15, 36, 25, 20, 36, 26, 18, 8, 42, 12, 19, 33, 11, 52, 11, 32, 27, 133, 42, 159, 95, 183, 18, 32, 15, 15, 56, 13, 53, 72, 18, 53, 18, 29, 14, 57, 25, 8, 11, 11, 27, 27, 25, 45, 13, 30, 2, 23, 21, 18, 24, 26, 105, 269, 262, 189, 110, 245, 187, 39, 55, 12, 180, 23, 19, 46, 18, 9, 15, 19, 46, 23, 16, 13, 16, 44, 54, 17, 20, 28, 66, 53, 44, 13, 90, 9, 53, 18, 18, 61, 18, 51, 30, 78, 61, 26, 18, 20, 11, 9, 155, 10, 231, 21, 28, 135, 18, 74, 117, 27, 12, 25, 40, 107, 4, 30, 20, 8, 52, 57, 29, 21, 66, 42, 35, 53, 31, 12, 22, 35, 11, 119, 41, 19, 13, 28, 10, 30, 15, 11, 16, 20, 18, 29, 11, 12, 33, 65, 17, 25, 11, 13, 16, 11, 17, 56, 9, 24, 40, 12, 20, 20, 40, 79, 16, 58, 17, 35, 15, 66, 54, 49, 39, 15, 2, 11, 29, 37, 123, 35, 146, 22, 37, 57, 30, 16, 52, 15, 9, 60, 16, 19, 29, 26, 14, 96, 46, 18, 53, 166, 39, 11, 12, 42, 15, 23, 11, 9, 28, 11, 52, 33, 13, 31, 30, 16, 32, 66, 15, 22, 63, 17, 11, 50, 21, 11, 36, 49, 32, 34, 11, 15, 25, 31, 27, 29, 100, 24, 24, 122, 11, 83, 31, 150, 170, 317, 29, 40, 607, 24, 51, 27, 17, 14, 10, 6, 193, 70, 31, 21, 28, 57, 55, 62, 246, 33, 428, 37, 23, 36, 51, 124, 22, 25, 19, 46, 79, 144, 15, 16, 34, 22, 72, 31, 19, 13, 26, 21, 10, 18, 59, 29, 11, 56, 10, 30, 14, 14, 18, 34, 11, 76, 13, 24, 9, 27, 1, 43, 10, 20, 31, 20, 16, 164, 72, 13, 19, 13, 40, 66, 31, 25, 47, 9, 77, 9, 61, 31, 15, 38, 10, 17, 14, 9, 45, 28, 24, 9, 40, 45, 21, 53, 14, 29, 35, 13, 14, 106, 12, 9, 20, 104, 12, 10, 11, 107, 24, 22, 12, 23, 26, 151, 20, 38, 22, 52, 66, 33, 29, 21, 15, 38, 36, 16, 37, 5, 56, 55, 13, 13, 29, 22, 14, 21, 93, 25, 38, 14, 17, 18, 10, 19, 16, 19, 17, 43, 63, 25, 48, 48, 28, 51, 45, 23, 11, 35, 14, 103, 17, 17, 29, 23, 24, 102, 23, 41, 35, 39, 91, 9, 36, 69, 16, 28, 101, 39, 13, 36, 36, 47, 20, 13, 12, 13, 108, 27, 78, 13, 45, 24, 20, 25, 23, 23, 45, 12, 10, 35, 16, 27, 24, 99, 17, 36, 134, 55, 21, 14, 46, 16, 79, 29, 22, 48, 126, 35, 17, 35, 13, 26, 15, 71, 28, 62, 57, 64, 288, 41, 12, 18, 26, 27, 59, 76, 26, 13, 32, 27, 24, 11, 37, 37, 22, 28, 15, 50, 114, 12, 11, 29, 82, 14, 21, 24, 28, 15, 19, 12, 39, 68, 146, 20, 19, 42, 15, 104, 35, 19, 11, 15, 29, 29, 21, 16, 50, 11, 23, 97, 88, 15, 32, 10, 26, 11, 13, 31, 13, 59, 13, 21, 12, 21, 16, 36, 25, 9, 41, 165, 19, 34, 15, 50, 9, 25, 13, 16, 12, 22, 96, 28, 13, 25, 21, 23, 14, 36, 16, 61, 15, 54, 25, 91, 56, 75, 30, 14, 14, 93, 46, 46, 36, 35, 45, 64, 154, 23, 16, 102, 61, 32, 52, 14, 77, 3, 13, 57, 22, 62, 28, 74, 43, 164, 16, 73, 336, 171, 259, 136, 53, 366, 103, 50, 56, 27, 19, 18, 17, 22, 25, 56, 33, 31, 17, 22, 23, 120, 9, 16, 48, 18, 44, 70, 49, 32, 77, 26, 17, 74, 123, 47, 23, 84, 18, 19, 13, 34, 49, 76, 20, 90, 107, 120, 112, 47, 17, 288, 26, 242, 93, 60, 156, 332, 57, 14, 234, 35, 93, 152, 22, 135, 21, 189, 8, 286, 287, 207, 130, 160, 134, 28, 482, 27, 11, 25, 36, 16, 16, 14, 22, 25, 14, 14, 21, 69, 74, 39, 52, 35, 53, 40, 18, 49, 54, 41, 13, 20, 30, 9, 54, 45, 47, 23, 56, 13, 15, 26, 174, 34, 25, 137, 93, 13, 99, 13, 218, 16, 52, 83, 37, 19, 41, 59, 21, 13, 65, 35, 139, 25, 31, 14, 15, 80, 47, 49, 45, 33, 29, 14, 13, 84, 182, 37, 16, 18, 16, 32, 129, 31, 12, 69, 16, 32, 21, 42, 26, 16, 30, 38, 28, 10, 68, 73, 30, 87, 65, 87, 28, 90, 34, 67, 12, 78, 48, 49, 75, 51, 41, 20, 16, 7, 12, 39, 12, 15, 29, 16, 202, 68, 22, 39, 33, 16, 10, 32, 9, 21, 116, 58, 21, 37, 162, 370, 299, 95, 55, 157, 700, 47, 175, 21, 20, 60, 29, 47, 94, 52, 67, 35, 49, 46, 33, 71, 50, 52, 163, 54, 17, 23, 18, 64, 105, 24, 30, 52, 12, 10, 145, 408, 107, 31, 179, 44, 169, 20, 13, 15, 15, 20, 36, 21, 11, 31, 13, 19, 19, 47, 17, 20, 19, 126, 105, 61, 33, 33, 22, 15, 53, 15, 40, 12, 12, 14, 14, 35, 61, 98, 12, 26, 48, 35, 279, 122, 21, 491, 53, 28, 44, 21, 57, 29, 19, 25, 47, 65, 121, 17, 21, 67, 19, 199, 56, 56, 17, 296, 153, 13, 26, 40, 178, 0, 41, 131, 43, 42, 22, 116, 118, 16, 11, 26, 34, 95, 14, 98, 54, 64, 69, 82, 94, 109, 59, 20, 135, 55, 105, 27, 54, 37, 248, 40, 35, 149, 17, 23, 110, 131, 40, 35, 63, 70, 19, 111, 254, 21, 114, 14, 14, 240, 43, 19, 39, 22, 30, 32, 50, 95, 26, 28, 181, 95, 65, 10, 17, 118, 26, 16, 13, 179, 23, 14, 32, 67, 395, 22, 9, 32, 48, 8, 34, 35, 21, 119, 32, 10, 29, 10, 11, 120, 14, 19, 37, 26, 44, 17, 38, 23, 17, 17, 25, 47, 42, 13, 51, 10, 17, 10, 14, 11, 12, 13, 16, 22, 14, 12, 18, 57, 33, 13, 8, 35, 75, 27, 18, 16, 13, 17, 24, 14, 14, 12, 116, 18, 30, 51, 11, 7, 61, 49, 42, 12, 12, 15, 21, 16, 22, 19, 28, 34, 55, 130, 41, 17, 49, 17, 53, 11, 93, 9, 38, 74, 118, 48, 95, 13, 16, 51, 90, 20, 162, 40, 54, 17, 36, 25, 95, 16, 69, 19, 12, 13, 21, 15, 8, 12, 16, 127, 16, 21, 14, 43, 28, 225, 49, 38, 43, 13, 66, 18, 13, 273, 33, 34, 141, 396, 43, 44, 14, 28, 72, 90, 52, 27, 36, 72, 190, 33, 420, 21, 33, 73, 108, 46, 16, 49, 51, 80, 52, 52, 10, 178, 28, 92, 22, 12, 38, 40, 83, 18, 217, 36, 11, 18, 29, 48, 10, 2, 46, 14, 33, 23, 18, 13, 83, 92, 48, 141, 17, 36, 32, 21, 46, 74, 19, 111, 38, 26, 80, 13, 10, 18, 11, 13, 14, 16, 9, 12, 24, 32, 37, 15, 51, 32, 23, 29, 159, 57, 13, 52, 20, 17, 17, 17, 13, 38, 26, 45, 63, 8, 16, 10, 40, 24, 10, 58, 59, 40, 78, 32, 99, 48, 94, 25, 9, 14, 9, 30, 17, 17, 2, 21, 13, 19, 9, 20, 22, 57, 15, 99, 15, 31, 27, 13, 25, 17, 38, 32, 10, 101, 32, 11, 11, 104, 48, 80, 36, 26, 11, 23, 91, 28, 55, 14, 63, 43, 37, 55, 7, 85, 17, 32, 377, 14, 26, 19, 128, 49, 11, 9, 18, 39, 27, 13, 196, 20, 11, 35, 219, 251, 399, 221, 543, 111, 122, 66, 205, 46, 28, 36, 18, 127, 141, 33, 66, 90, 14, 102, 21, 20, 89, 36, 26, 17, 21, 93, 182, 61, 141, 29, 100, 95, 61, 383, 22, 53, 41, 34, 16, 42, 140, 43, 133, 320, 55, 16, 27, 98, 40, 87, 48, 21, 29, 23, 29, 129, 53, 0, 18, 143, 121, 44, 50, 16, 428, 22, 133, 139, 19, 28, 67, 25, 16, 59, 140, 160, 27, 15, 48, 21, 19, 315, 40, 26, 25, 16, 17, 13, 11, 64, 13, 23, 9, 72, 28, 24, 24, 16, 20, 15, 31, 12, 18, 15, 28, 37, 46, 10, 25, 11, 24, 10, 8, 22, 69, 35, 14, 81, 11, 15, 63, 17, 107, 12, 21, 18, 62, 32, 90, 38, 48, 30, 71, 66, 61, 94, 67, 12, 109, 61, 17, 53, 45, 17, 47, 10, 168, 33, 139, 378, 43, 113, 114, 90, 30, 116, 54, 121, 68, 65, 35, 30, 21, 39, 32, 75, 57, 35, 25, 25, 288, 193, 42, 24, 40, 42, 62, 49, 41, 24, 43, 214, 56, 50, 140, 464, 20, 138, 0, 39, 45, 66, 40, 15, 301, 0, 83, 47, 29, 10, 13, 9, 41, 40, 15, 12, 115, 62, 35, 81, 27, 32, 38, 30, 39, 13, 48, 91, 22, 71, 79, 59, 46, 178, 0, 87, 77, 11, 92, 231, 203, 28, 48, 77, 171, 68, 14, 897, 37, 36, 110, 167, 51, 32, 16, 171, 255, 19, 12, 9, 10, 12, 15, 23, 19, 11, 17, 24, 15, 26, 26, 20, 10, 15, 21, 40, 11, 10, 23, 16, 11, 21, 17, 11, 9, 47, 13, 11, 19, 15, 32, 35, 15, 26, 8, 139, 47, 21, 48, 38, 10, 11, 20, 27, 58, 15, 14, 13, 32, 21, 15, 66, 22, 13, 34, 31, 68, 31, 9, 16, 18, 11, 14, 17, 15, 32, 46, 24, 32, 23, 17, 7, 20, 16, 6, 21, 12, 8, 12, 32, 51, 94, 103, 27, 29, 13, 30, 87, 14, 24, 86, 9, 73, 12, 53, 194, 21, 16, 45, 23, 16, 65, 28, 21, 20, 115, 27, 10, 11, 29, 12, 33, 121, 14, 34, 34, 18, 312, 103, 46, 143, 128, 73, 15, 123, 13, 36, 37, 26, 65, 11, 12, 52, 18, 26, 14, 11, 21, 28, 20, 34, 31, 18, 38, 13, 29, 144, 35, 10, 39, 15, 33, 19, 7, 34, 31, 15, 18, 13, 12, 53, 12, 94, 10, 197, 82, 40, 66, 35, 44, 219, 40, 399, 25, 14, 13, 38, 63, 22, 30, 51, 33, 20, 25, 25, 118, 111, 172, 44, 71, 24, 42, 9, 13, 16, 15, 41, 29, 76, 48, 31, 141, 146, 436, 59, 77, 16, 11, 19, 15, 12, 23, 11, 20, 99, 134, 11, 15, 68, 16, 43, 47, 23, 21, 44, 9, 15, 23, 29, 60, 32, 62, 11, 49, 51, 78, 57, 39, 38, 115, 126, 16, 34, 45, 35, 13, 27, 249, 42, 30, 49, 31, 28, 25, 131, 16, 68, 70, 83, 24, 33, 35, 15, 27, 45, 14, 13, 77, 10, 12, 13, 25, 13, 14, 37, 70, 26, 25, 31, 51, 23, 18, 22, 105, 19, 58, 12, 44, 73, 44, 31, 15, 33, 18, 13, 21, 15, 11, 9, 40, 11, 13, 21, 41, 20, 29, 14, 66, 31, 35, 67, 21, 35, 14, 31, 46, 30, 21, 28, 209, 71, 23, 18, 40, 89, 61, 49, 51, 152, 17, 117, 44, 145, 41, 183, 171, 172, 165, 23, 37, 15, 14, 98, 32, 14, 8, 43, 35, 15, 112, 10, 28, 256, 56, 53, 11, 37, 73, 15, 25, 44, 12, 81, 51, 70, 90, 77, 27, 238, 18, 30, 26, 15, 26, 30, 36, 16, 48, 20, 9, 27, 19, 16, 70, 40, 46, 109, 31, 21, 23, 15, 12, 9, 15, 18, 9, 21, 25, 9, 40, 146, 83, 172, 41, 28, 14, 10, 80, 12, 55, 22, 24, 25, 54, 14, 28, 24, 24, 14, 29, 83, 57, 632, 46, 41, 48, 156, 70, 298, 58, 56, 67, 105, 25, 65, 95, 78, 40, 39, 61, 36, 69, 110, 91, 78, 45, 27, 39, 77, 110, 198, 153, 21, 13, 69, 37, 442, 344, 74, 168, 52, 22, 17, 53, 20, 23, 32, 47, 12, 10, 98, 23, 188, 60, 35, 22, 26, 9, 24, 24, 136, 26, 11, 26, 31, 33, 15, 91, 37, 15, 61, 116, 43, 179, 28, 45, 107, 73, 116, 31, 22, 73, 102, 69, 16, 26, 91, 58, 30, 82, 114, 66, 16, 27, 20, 20, 43, 14, 47, 74, 9, 61, 15, 13, 17, 16, 296, 47, 97, 128, 19, 40, 13, 132, 46, 97, 95, 36, 16, 32, 57, 64, 20, 57, 28, 15, 21, 31, 108, 7, 44, 12, 38, 51, 27, 33, 22, 23, 25, 97, 56, 15, 38, 10, 46, 48, 91, 19, 61, 33, 136, 66, 69, 154, 138, 61, 67, 21, 44, 102, 87, 26, 29, 30, 28, 9, 44, 24, 42, 23, 23, 127, 14, 23, 5, 34, 18, 11, 20, 45, 11, 60, 72, 74, 25, 51, 25, 17, 47, 66, 24, 38, 60, 53, 43, 34, 250, 29, 192, 65, 122, 56, 151, 78, 15, 36, 144, 62, 46, 75, 17, 201, 21, 45, 25, 58, 114, 71, 15, 23, 23, 45, 148, 16, 28, 89, 70, 21, 65, 104, 9, 64, 87, 31, 27, 65, 15, 65, 476, 102, 20, 35, 47, 9, 17, 54, 63, 19, 50, 110, 16, 650, 119, 177, 385, 668, 82, 343, 16, 181, 12, 22, 23, 25, 23, 17, 8, 27, 23, 21, 16, 21, 25, 4, 23, 39, 19, 13, 23, 11, 13, 9, 10, 13, 46, 13, 34, 31, 43, 8, 13, 15, 14, 43, 55, 13, 13, 13, 46, 2, 11, 19, 24, 12, 29, 24, 49, 16, 39, 18, 23, 29, 112, 125, 23, 94, 13, 136, 23, 58, 14, 33, 56, 13, 18, 21, 12, 10, 29, 22, 13, 8, 42, 12, 48, 28, 29, 12, 14, 94, 9, 15, 22, 16, 32, 20, 16, 36, 33, 12, 17, 9, 30, 27, 10, 26, 15, 36, 30, 100, 19, 14, 202, 54, 335, 91, 156, 35, 14, 61, 31, 12, 49, 16, 59, 320, 115, 91, 92, 76, 14, 183, 65, 33, 87, 90, 26, 10, 21, 131, 37, 46, 52, 10, 72, 69, 561, 100, 31, 193, 68, 53, 49, 64, 82, 133, 222, 93, 51, 41, 61, 200, 101, 59, 224, 134, 162, 73, 44, 38, 106, 19, 163, 47, 64, 70, 63, 49, 27, 79, 44, 60, 135, 29, 41, 15, 29, 181, 53, 39, 212, 65, 27, 50, 53, 134, 66, 50, 65, 55, 28, 103, 53, 20, 93, 64, 30, 138, 205, 90, 65, 16, 88, 55, 66, 50, 46, 208, 3, 270, 52, 152, 54]\n"
     ]
    }
   ],
   "source": [
    "print(reviews_len)"
   ]
  },
  {
   "cell_type": "code",
   "execution_count": 18,
   "metadata": {},
   "outputs": [
    {
     "name": "stdout",
     "output_type": "stream",
     "text": [
      "Percent of reviews utilized with 0.9532209336321996\n"
     ]
    }
   ],
   "source": [
    "def getCount(listOfElems, cond = None):\n",
    "    'Returns the count of elements in list that satisfies the given condition'\n",
    "    if cond:\n",
    "        count = sum(cond(elem) for elem in listOfElems)\n",
    "    else:\n",
    "        count = len(listOfElems)    \n",
    "    return count \n",
    "#Proposed Sequence Length below:\n",
    "seq_length = 150\n",
    "count = getCount(reviews_len, lambda x : x<seq_length)\n",
    "print('Percent of reviews utilized with ' +str(count/len(reviews_len)))"
   ]
  },
  {
   "cell_type": "markdown",
   "metadata": {},
   "source": [
    "From this we can see that we should use a review length of 150 to catch 95% of all reviews in our sentiment analysis. \n",
    "Now we will append this to our dataframe and drop columns we don't need. "
   ]
  },
  {
   "cell_type": "code",
   "execution_count": 19,
   "metadata": {},
   "outputs": [
    {
     "name": "stdout",
     "output_type": "stream",
     "text": [
      "0        [1, 26, 633, 275, 399, 459, 341, 4, 70, 26, 10...\n",
      "1        [61, 275, 144, 5742, 1, 734, 700, 538, 431, 46...\n",
      "2        [1408, 124, 332, 1024, 3350, 13, 730, 516, 341...\n",
      "3        [33, 1661, 587, 1213, 48, 977, 341, 63, 1772, ...\n",
      "4        [341, 459, 9, 25, 510, 8, 205, 459, 70, 615, 1...\n",
      "                               ...                        \n",
      "10256    [9, 133, 460, 0, 0, 0, 0, 0, 0, 0, 0, 0, 0, 0,...\n",
      "10257    [44, 38, 1506, 5, 64, 58, 113, 19, 151, 719, 2...\n",
      "10258    [38, 536, 5, 549, 211, 1023, 107, 3431, 1867, ...\n",
      "10259    [15, 14, 622, 1588, 890, 47, 5, 153, 90, 1827,...\n",
      "10260    [5, 20, 144, 10, 13, 1, 680, 100, 4040, 5, 1, ...\n",
      "Name: reviews_int_padded, Length: 10261, dtype: object\n"
     ]
    }
   ],
   "source": [
    "from tensorflow.keras.preprocessing.sequence import pad_sequences\n",
    "\n",
    "padded = pad_sequences(reviews_int, padding='post', maxlen = 150, truncating='post')\n",
    "df['reviews_int_padded'] = padded.tolist()\n",
    "print(df['reviews_int_padded'])"
   ]
  },
  {
   "cell_type": "code",
   "execution_count": 20,
   "metadata": {},
   "outputs": [],
   "source": [
    "df['reviews_int'] = reviews_int\n",
    "df['rating_int'] = encoded_labels\n",
    "# Drop unnecessary columns\n",
    "df1 = df.drop(['overall','reviewerName','reviewTime','unixReviewTime','summary','pos_feedback', 'neg_feedback','help_prop'], axis=1).copy()\n",
    "df1.to_csv('df_clean_dataframe.csv')"
   ]
  },
  {
   "cell_type": "code",
   "execution_count": 21,
   "metadata": {},
   "outputs": [
    {
     "name": "stdout",
     "output_type": "stream",
     "text": [
      "Train Set Shape\t\t:(7695, 150)\n",
      "Test Set Shape\t\t:(2566, 150)\n"
     ]
    }
   ],
   "source": [
    "df1['rating_class'] = df1['rating_class'].apply(lambda x: 0 if x == 'bad' else 1)\n",
    "# Splitting the Data Set into Train and Test Sets\n",
    "X = padded\n",
    "y = df1['rating_class'].values\n",
    "train_padded, test_padded, train_labels, test_labels = train_test_split(X, y, test_size=0.25, random_state=42)\n",
    "print ('Train Set Shape\\t\\t:{}\\nTest Set Shape\\t\\t:{}'.format(train_padded.shape, test_padded.shape))"
   ]
  },
  {
   "cell_type": "markdown",
   "metadata": {},
   "source": [
    "# Begin TensorFlow Model"
   ]
  },
  {
   "cell_type": "code",
   "execution_count": 65,
   "metadata": {},
   "outputs": [
    {
     "name": "stdout",
     "output_type": "stream",
     "text": [
      "Model: \"sequential_1\"\n",
      "_________________________________________________________________\n",
      "Layer (type)                 Output Shape              Param #   \n",
      "=================================================================\n",
      "embedding_1 (Embedding)      (None, 150, 13)           323323    \n",
      "_________________________________________________________________\n",
      "lstm_1 (LSTM)                (None, 64)                19968     \n",
      "_________________________________________________________________\n",
      "dense_1 (Dense)              (None, 1)                 65        \n",
      "=================================================================\n",
      "Total params: 343,356\n",
      "Trainable params: 343,356\n",
      "Non-trainable params: 0\n",
      "_________________________________________________________________\n"
     ]
    }
   ],
   "source": [
    "from keras.models import Sequential\n",
    "from keras.layers import Embedding, LSTM, Dense, Dropout\n",
    "from keras.initializers import Constant\n",
    "from tensorflow.keras.optimizers import Adam\n",
    "num_words = len(distinct_int)+1\n",
    "seq_length = 150\n",
    "emb_len = round(embedding_dimensions)\n",
    "model = Sequential()\n",
    "\n",
    "model.add(Embedding(num_words, emb_len, input_length=seq_length))\n",
    "\n",
    "\n",
    "model.add(LSTM(64, dropout=0.1))\n",
    "model.add(Dense(1, activation=\"sigmoid\"))\n",
    "\n",
    "\n",
    "#optimizer = Adam(learning_rate=3e-4)\n",
    "optimizer = Adam()\n",
    "model.compile(loss=\"binary_crossentropy\", optimizer=optimizer, metrics=[\"accuracy\"])\n",
    "model.summary()"
   ]
  },
  {
   "cell_type": "code",
   "execution_count": 66,
   "metadata": {},
   "outputs": [
    {
     "name": "stdout",
     "output_type": "stream",
     "text": [
      "Epoch 1/2\n",
      "241/241 [==============================] - 11s 43ms/step - loss: 0.2068 - accuracy: 0.9519 - val_loss: 0.1891 - val_accuracy: 0.9532\n",
      "Epoch 2/2\n",
      "241/241 [==============================] - 10s 42ms/step - loss: 0.1845 - accuracy: 0.9549 - val_loss: 0.1889 - val_accuracy: 0.9532\n"
     ]
    }
   ],
   "source": [
    "history = model.fit(\n",
    "    train_padded, train_labels, epochs=2, validation_data=(test_padded, test_labels),\n",
    ")\n"
   ]
  },
  {
   "cell_type": "code",
   "execution_count": 64,
   "metadata": {},
   "outputs": [
    {
     "data": {
      "image/png": "[encoded data removed]",
      "text/plain": [
       "<Figure size 640x480 with 2 Axes>"
      ]
     },
     "metadata": {},
     "output_type": "display_data"
    }
   ],
   "source": [
    "fig, ax1 = plt.subplots()\n",
    "ax1.plot(history.history['loss'], color='C0', label = 'Train loss')\n",
    "ax1.plot(history.history['val_loss'], color='C1', label = 'Validation Loss')\n",
    "\n",
    "#ax1.title('model train vs validation loss')\n",
    "ax1.set_ylabel('loss')\n",
    "ax1.set_xlabel('epoch')\n",
    "#ax1.legend(['train loss', 'validation'], loc='upper right')\n",
    "ax2 = ax1.twinx()\n",
    "ax2.plot(history.history['accuracy'], color='C2', label = 'Train Accuracy')\n",
    "ax2.plot(history.history['val_accuracy'], color='C3', label = 'Validation Accuracy')\n",
    "ax2.set_ylabel('accuracy')\n",
    "#ax2.legend(['train acc', 'validation'], loc='upper right')\n",
    "\n",
    "fig.legend(title = 'Test and Training Metrics',\n",
    "           bbox_to_anchor = (1.35, 0.6))\n",
    "plt.show()"
   ]
  },
  {
   "cell_type": "code",
   "execution_count": 67,
   "metadata": {},
   "outputs": [
    {
     "name": "stderr",
     "output_type": "stream",
     "text": [
      "WARNING:absl:Found untraced functions such as lstm_cell_1_layer_call_and_return_conditional_losses, lstm_cell_1_layer_call_fn, lstm_cell_1_layer_call_fn, lstm_cell_1_layer_call_and_return_conditional_losses, lstm_cell_1_layer_call_and_return_conditional_losses while saving (showing 5 of 5). These functions will not be directly callable after loading.\n"
     ]
    },
    {
     "name": "stdout",
     "output_type": "stream",
     "text": [
      "INFO:tensorflow:Assets written to: SA_LSTM_D214_Task2\\assets\n"
     ]
    },
    {
     "name": "stderr",
     "output_type": "stream",
     "text": [
      "INFO:tensorflow:Assets written to: SA_LSTM_D214_Task2\\assets\n"
     ]
    }
   ],
   "source": [
    "model.save('SA_LSTM_D214_Task2')"
   ]
  }
 ],
 "metadata": {
  "kernelspec": {
   "display_name": "Python 3 (ipykernel)",
   "language": "python",
   "name": "python3"
  },
  "language_info": {
   "codemirror_mode": {
    "name": "ipython",
    "version": 3
   },
   "file_extension": ".py",
   "mimetype": "text/x-python",
   "name": "python",
   "nbconvert_exporter": "python",
   "pygments_lexer": "ipython3",
   "version": "3.8.11"
  }
 },
 "nbformat": 4,
 "nbformat_minor": 2
}
